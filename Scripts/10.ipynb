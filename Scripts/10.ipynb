{
 "cells": [
  {
   "cell_type": "markdown",
   "id": "fa37c127",
   "metadata": {},
   "source": [
    "# 4.10 Coding Etiquette and Excel Reporting\n",
    "\n",
    "## Contents\n",
    "\n",
    "1- Importing the Latest Data Set\n",
    "\n",
    "2- Removing PII Data from the DataFrame\n",
    "\n",
    "3- Creating a Region Column\n",
    "\n",
    "4- Removing Low-Activity Customer from the DataFrame\n",
    "\n",
    "5- Creating a Customer Profile\n",
    "\n",
    "6- Creating a Visualization to show the Distribution of Profiles\n",
    "\n",
    "7- Aggregation of the Max, Mean, and Min Variables on a Customer-Profile Level for Usage Frequency and Expenditure.\n",
    "\n",
    "8- Comparing Customer Profiles with Regions and Departments\n",
    "\n",
    "9- Producing Charts to Illustrate Results and Exporting them into the Project Folder.\n",
    "\n",
    "10- Exporting the Final Data Set"
   ]
  },
  {
   "cell_type": "code",
   "execution_count": 2,
   "id": "c89fa740",
   "metadata": {},
   "outputs": [],
   "source": [
    "import pandas as pd\n",
    "import numpy as np\n",
    "import os\n",
    "import matplotlib.pyplot as plt\n",
    "import seaborn as sns\n",
    "import scipy"
   ]
  },
  {
   "cell_type": "markdown",
   "id": "aa147432",
   "metadata": {},
   "source": [
    "## 1) Importing the Latest Data Set"
   ]
  },
  {
   "cell_type": "code",
   "execution_count": 3,
   "id": "9d06c315",
   "metadata": {},
   "outputs": [],
   "source": [
    "path = '/Users/calebhill/09:01:2023 - Instacart Basket Analysis/02 Data/Prepared Data/'"
   ]
  },
  {
   "cell_type": "code",
   "execution_count": 4,
   "id": "4a8e1671",
   "metadata": {},
   "outputs": [],
   "source": [
    "path_3 = '/Users/calebhill/09:01:2023 - Instacart Basket Analysis/04 Analysis/Visualizations'"
   ]
  },
  {
   "cell_type": "code",
   "execution_count": 5,
   "id": "74ba02ac",
   "metadata": {},
   "outputs": [],
   "source": [
    "file = 'ords_prods_cust_merged.pkl'"
   ]
  },
  {
   "cell_type": "code",
   "execution_count": 6,
   "id": "9d56749e",
   "metadata": {},
   "outputs": [],
   "source": [
    "file_2 = 'departments_wrangled.csv'"
   ]
  },
  {
   "cell_type": "code",
   "execution_count": 7,
   "id": "29455041",
   "metadata": {},
   "outputs": [],
   "source": [
    "filepath_2 = os.path.join(path, file_2)"
   ]
  },
  {
   "cell_type": "code",
   "execution_count": 8,
   "id": "e130548a",
   "metadata": {},
   "outputs": [],
   "source": [
    "filepath = os.path.join(path, file)"
   ]
  },
  {
   "cell_type": "code",
   "execution_count": 9,
   "id": "bbbd5aaf",
   "metadata": {},
   "outputs": [],
   "source": [
    "all_merged = pd.read_pickle(filepath)"
   ]
  },
  {
   "cell_type": "code",
   "execution_count": 10,
   "id": "44ebbeaf",
   "metadata": {},
   "outputs": [],
   "source": [
    "deps_df = pd.read_csv(filepath_2)"
   ]
  },
  {
   "cell_type": "markdown",
   "id": "33eb86f9",
   "metadata": {},
   "source": [
    "## 2) Removing PII Data from the DataFrame"
   ]
  },
  {
   "cell_type": "markdown",
   "id": "77472053",
   "metadata": {},
   "source": [
    "Since names are PII I will removed the name columns"
   ]
  },
  {
   "cell_type": "code",
   "execution_count": 11,
   "id": "e3506acc",
   "metadata": {},
   "outputs": [],
   "source": [
    "#removes name columns because they are PII data\n",
    "all_merged = all_merged.drop(columns = ['first_name', 'last_name'])"
   ]
  },
  {
   "cell_type": "code",
   "execution_count": 12,
   "id": "41d4910b",
   "metadata": {},
   "outputs": [
    {
     "data": {
      "text/html": [
       "<div>\n",
       "<style scoped>\n",
       "    .dataframe tbody tr th:only-of-type {\n",
       "        vertical-align: middle;\n",
       "    }\n",
       "\n",
       "    .dataframe tbody tr th {\n",
       "        vertical-align: top;\n",
       "    }\n",
       "\n",
       "    .dataframe thead th {\n",
       "        text-align: right;\n",
       "    }\n",
       "</style>\n",
       "<table border=\"1\" class=\"dataframe\">\n",
       "  <thead>\n",
       "    <tr style=\"text-align: right;\">\n",
       "      <th></th>\n",
       "      <th>user_id</th>\n",
       "      <th>gender</th>\n",
       "      <th>state</th>\n",
       "      <th>age</th>\n",
       "      <th>date_joined</th>\n",
       "      <th>number_of_dependants</th>\n",
       "      <th>marital_status</th>\n",
       "      <th>income</th>\n",
       "      <th>product_id</th>\n",
       "      <th>product_name</th>\n",
       "      <th>...</th>\n",
       "      <th>exists</th>\n",
       "      <th>price_label</th>\n",
       "      <th>busiest_days</th>\n",
       "      <th>busiest_period_of_day</th>\n",
       "      <th>max_order</th>\n",
       "      <th>loyalty_flag</th>\n",
       "      <th>average_price</th>\n",
       "      <th>spending_flag</th>\n",
       "      <th>median_frequency</th>\n",
       "      <th>order_frequency_flag</th>\n",
       "    </tr>\n",
       "  </thead>\n",
       "  <tbody>\n",
       "    <tr>\n",
       "      <th>0</th>\n",
       "      <td>26711</td>\n",
       "      <td>Female</td>\n",
       "      <td>Missouri</td>\n",
       "      <td>48</td>\n",
       "      <td>1/1/2017</td>\n",
       "      <td>3</td>\n",
       "      <td>married</td>\n",
       "      <td>165665</td>\n",
       "      <td>196</td>\n",
       "      <td>Soda</td>\n",
       "      <td>...</td>\n",
       "      <td>both</td>\n",
       "      <td>Mid Range Product</td>\n",
       "      <td>Second Busiest Day</td>\n",
       "      <td>Most orders</td>\n",
       "      <td>8</td>\n",
       "      <td>New customer</td>\n",
       "      <td>7.988889</td>\n",
       "      <td>Low spender</td>\n",
       "      <td>19.0</td>\n",
       "      <td>Regular Customer</td>\n",
       "    </tr>\n",
       "    <tr>\n",
       "      <th>1</th>\n",
       "      <td>26711</td>\n",
       "      <td>Female</td>\n",
       "      <td>Missouri</td>\n",
       "      <td>48</td>\n",
       "      <td>1/1/2017</td>\n",
       "      <td>3</td>\n",
       "      <td>married</td>\n",
       "      <td>165665</td>\n",
       "      <td>196</td>\n",
       "      <td>Soda</td>\n",
       "      <td>...</td>\n",
       "      <td>both</td>\n",
       "      <td>Mid Range Product</td>\n",
       "      <td>Regularly Busy</td>\n",
       "      <td>Most orders</td>\n",
       "      <td>8</td>\n",
       "      <td>New customer</td>\n",
       "      <td>7.988889</td>\n",
       "      <td>Low spender</td>\n",
       "      <td>19.0</td>\n",
       "      <td>Regular Customer</td>\n",
       "    </tr>\n",
       "    <tr>\n",
       "      <th>2</th>\n",
       "      <td>26711</td>\n",
       "      <td>Female</td>\n",
       "      <td>Missouri</td>\n",
       "      <td>48</td>\n",
       "      <td>1/1/2017</td>\n",
       "      <td>3</td>\n",
       "      <td>married</td>\n",
       "      <td>165665</td>\n",
       "      <td>196</td>\n",
       "      <td>Soda</td>\n",
       "      <td>...</td>\n",
       "      <td>both</td>\n",
       "      <td>Mid Range Product</td>\n",
       "      <td>Second Busiest Day</td>\n",
       "      <td>Most orders</td>\n",
       "      <td>8</td>\n",
       "      <td>New customer</td>\n",
       "      <td>7.988889</td>\n",
       "      <td>Low spender</td>\n",
       "      <td>19.0</td>\n",
       "      <td>Regular Customer</td>\n",
       "    </tr>\n",
       "    <tr>\n",
       "      <th>3</th>\n",
       "      <td>26711</td>\n",
       "      <td>Female</td>\n",
       "      <td>Missouri</td>\n",
       "      <td>48</td>\n",
       "      <td>1/1/2017</td>\n",
       "      <td>3</td>\n",
       "      <td>married</td>\n",
       "      <td>165665</td>\n",
       "      <td>6184</td>\n",
       "      <td>Clementines</td>\n",
       "      <td>...</td>\n",
       "      <td>both</td>\n",
       "      <td>Low Range Product</td>\n",
       "      <td>Regularly Busy</td>\n",
       "      <td>Most orders</td>\n",
       "      <td>8</td>\n",
       "      <td>New customer</td>\n",
       "      <td>7.988889</td>\n",
       "      <td>Low spender</td>\n",
       "      <td>19.0</td>\n",
       "      <td>Regular Customer</td>\n",
       "    </tr>\n",
       "    <tr>\n",
       "      <th>4</th>\n",
       "      <td>26711</td>\n",
       "      <td>Female</td>\n",
       "      <td>Missouri</td>\n",
       "      <td>48</td>\n",
       "      <td>1/1/2017</td>\n",
       "      <td>3</td>\n",
       "      <td>married</td>\n",
       "      <td>165665</td>\n",
       "      <td>6184</td>\n",
       "      <td>Clementines</td>\n",
       "      <td>...</td>\n",
       "      <td>both</td>\n",
       "      <td>Low Range Product</td>\n",
       "      <td>Second Slowest Day</td>\n",
       "      <td>Most orders</td>\n",
       "      <td>8</td>\n",
       "      <td>New customer</td>\n",
       "      <td>7.988889</td>\n",
       "      <td>Low spender</td>\n",
       "      <td>19.0</td>\n",
       "      <td>Regular Customer</td>\n",
       "    </tr>\n",
       "  </tbody>\n",
       "</table>\n",
       "<p>5 rows × 31 columns</p>\n",
       "</div>"
      ],
      "text/plain": [
       "  user_id  gender     state  age date_joined  number_of_dependants  \\\n",
       "0   26711  Female  Missouri   48    1/1/2017                     3   \n",
       "1   26711  Female  Missouri   48    1/1/2017                     3   \n",
       "2   26711  Female  Missouri   48    1/1/2017                     3   \n",
       "3   26711  Female  Missouri   48    1/1/2017                     3   \n",
       "4   26711  Female  Missouri   48    1/1/2017                     3   \n",
       "\n",
       "  marital_status  income  product_id product_name  ...  exists  \\\n",
       "0        married  165665         196         Soda  ...    both   \n",
       "1        married  165665         196         Soda  ...    both   \n",
       "2        married  165665         196         Soda  ...    both   \n",
       "3        married  165665        6184  Clementines  ...    both   \n",
       "4        married  165665        6184  Clementines  ...    both   \n",
       "\n",
       "         price_label        busiest_days  busiest_period_of_day  max_order  \\\n",
       "0  Mid Range Product  Second Busiest Day            Most orders          8   \n",
       "1  Mid Range Product      Regularly Busy            Most orders          8   \n",
       "2  Mid Range Product  Second Busiest Day            Most orders          8   \n",
       "3  Low Range Product      Regularly Busy            Most orders          8   \n",
       "4  Low Range Product  Second Slowest Day            Most orders          8   \n",
       "\n",
       "   loyalty_flag  average_price  spending_flag  median_frequency  \\\n",
       "0  New customer       7.988889    Low spender              19.0   \n",
       "1  New customer       7.988889    Low spender              19.0   \n",
       "2  New customer       7.988889    Low spender              19.0   \n",
       "3  New customer       7.988889    Low spender              19.0   \n",
       "4  New customer       7.988889    Low spender              19.0   \n",
       "\n",
       "   order_frequency_flag  \n",
       "0      Regular Customer  \n",
       "1      Regular Customer  \n",
       "2      Regular Customer  \n",
       "3      Regular Customer  \n",
       "4      Regular Customer  \n",
       "\n",
       "[5 rows x 31 columns]"
      ]
     },
     "execution_count": 12,
     "metadata": {},
     "output_type": "execute_result"
    }
   ],
   "source": [
    "#confirms name columns were removed\n",
    "all_merged.head()"
   ]
  },
  {
   "cell_type": "markdown",
   "id": "11edd46d",
   "metadata": {},
   "source": [
    "## 3) Creating a Region Column"
   ]
  },
  {
   "cell_type": "code",
   "execution_count": 13,
   "id": "0878f72d",
   "metadata": {},
   "outputs": [],
   "source": [
    "#creates an empty list to append which region the state belongs to and the other lists are states\\n \n",
    "#according to the region they belong to so they can be referenced quickly in the for loop \n",
    "#the for loop appends the region to which each state belongs for each row in the all_merged df.\n",
    "\n",
    "region = []\n",
    "region_1 = ['Maine', 'New Hampshire', 'Vermont', 'Massachusetts', 'Rhode Island', 'Pennsylvania', 'New Jersey', \n",
    "                                                                                     'New York', 'Connecticut']\n",
    "region_2 = ['Wisconsin', 'Michigan', 'Illinois', 'Indiana', 'Ohio', 'North Dakota', 'South Dakota', 'Nebraska', \n",
    "                                                                     'Kansas', 'Minnesota', 'Iowa', 'Missouri']\n",
    "region_3 = ['Delaware', 'Maryland', 'District of Columbia', 'Virginia', 'West Virginia', 'North Carolina', \n",
    "            'South Carolina', 'Georgia', 'Florida', 'Kentucky', 'Tennessee', 'Alabama', 'Oklahoma', 'Texas',\n",
    "                                                                        'Mississippi', 'Arkansas', 'Louisiana']\n",
    "region_4 = ['Idaho', 'Montana', 'Wyoming', 'Nevada', 'Utah', 'Colorado', 'Arizona', 'New Mexico', 'Alaska',\n",
    "                                                                'Washington', 'Oregon', 'California', 'Hawaii']\n",
    "\n",
    "for st in all_merged['state']:\n",
    "    if st in region_1:\n",
    "        region.append('Northeast')\n",
    "    elif st in region_2:\n",
    "        region.append('Midwest')\n",
    "    elif st in region_3:\n",
    "        region.append('South')\n",
    "    elif st in region_4:\n",
    "        region.append('West')"
   ]
  },
  {
   "cell_type": "code",
   "execution_count": 14,
   "id": "af68297b",
   "metadata": {},
   "outputs": [],
   "source": [
    "#assigns the region list to a column of the same name in the df\n",
    "all_merged['region'] = region"
   ]
  },
  {
   "cell_type": "code",
   "execution_count": 15,
   "id": "8c137366",
   "metadata": {},
   "outputs": [
    {
     "data": {
      "text/plain": [
       "(32404859, 32)"
      ]
     },
     "execution_count": 15,
     "metadata": {},
     "output_type": "execute_result"
    }
   ],
   "source": [
    "all_merged.shape"
   ]
  },
  {
   "cell_type": "code",
   "execution_count": 16,
   "id": "d25ff29c",
   "metadata": {},
   "outputs": [
    {
     "data": {
      "text/html": [
       "<div>\n",
       "<style scoped>\n",
       "    .dataframe tbody tr th:only-of-type {\n",
       "        vertical-align: middle;\n",
       "    }\n",
       "\n",
       "    .dataframe tbody tr th {\n",
       "        vertical-align: top;\n",
       "    }\n",
       "\n",
       "    .dataframe thead th {\n",
       "        text-align: right;\n",
       "    }\n",
       "</style>\n",
       "<table border=\"1\" class=\"dataframe\">\n",
       "  <thead>\n",
       "    <tr style=\"text-align: right;\">\n",
       "      <th></th>\n",
       "      <th>user_id</th>\n",
       "      <th>gender</th>\n",
       "      <th>state</th>\n",
       "      <th>age</th>\n",
       "      <th>date_joined</th>\n",
       "      <th>number_of_dependants</th>\n",
       "      <th>marital_status</th>\n",
       "      <th>income</th>\n",
       "      <th>product_id</th>\n",
       "      <th>product_name</th>\n",
       "      <th>...</th>\n",
       "      <th>price_label</th>\n",
       "      <th>busiest_days</th>\n",
       "      <th>busiest_period_of_day</th>\n",
       "      <th>max_order</th>\n",
       "      <th>loyalty_flag</th>\n",
       "      <th>average_price</th>\n",
       "      <th>spending_flag</th>\n",
       "      <th>median_frequency</th>\n",
       "      <th>order_frequency_flag</th>\n",
       "      <th>region</th>\n",
       "    </tr>\n",
       "  </thead>\n",
       "  <tbody>\n",
       "    <tr>\n",
       "      <th>0</th>\n",
       "      <td>26711</td>\n",
       "      <td>Female</td>\n",
       "      <td>Missouri</td>\n",
       "      <td>48</td>\n",
       "      <td>1/1/2017</td>\n",
       "      <td>3</td>\n",
       "      <td>married</td>\n",
       "      <td>165665</td>\n",
       "      <td>196</td>\n",
       "      <td>Soda</td>\n",
       "      <td>...</td>\n",
       "      <td>Mid Range Product</td>\n",
       "      <td>Second Busiest Day</td>\n",
       "      <td>Most orders</td>\n",
       "      <td>8</td>\n",
       "      <td>New customer</td>\n",
       "      <td>7.988889</td>\n",
       "      <td>Low spender</td>\n",
       "      <td>19.0</td>\n",
       "      <td>Regular Customer</td>\n",
       "      <td>Midwest</td>\n",
       "    </tr>\n",
       "    <tr>\n",
       "      <th>1</th>\n",
       "      <td>26711</td>\n",
       "      <td>Female</td>\n",
       "      <td>Missouri</td>\n",
       "      <td>48</td>\n",
       "      <td>1/1/2017</td>\n",
       "      <td>3</td>\n",
       "      <td>married</td>\n",
       "      <td>165665</td>\n",
       "      <td>196</td>\n",
       "      <td>Soda</td>\n",
       "      <td>...</td>\n",
       "      <td>Mid Range Product</td>\n",
       "      <td>Regularly Busy</td>\n",
       "      <td>Most orders</td>\n",
       "      <td>8</td>\n",
       "      <td>New customer</td>\n",
       "      <td>7.988889</td>\n",
       "      <td>Low spender</td>\n",
       "      <td>19.0</td>\n",
       "      <td>Regular Customer</td>\n",
       "      <td>Midwest</td>\n",
       "    </tr>\n",
       "    <tr>\n",
       "      <th>2</th>\n",
       "      <td>26711</td>\n",
       "      <td>Female</td>\n",
       "      <td>Missouri</td>\n",
       "      <td>48</td>\n",
       "      <td>1/1/2017</td>\n",
       "      <td>3</td>\n",
       "      <td>married</td>\n",
       "      <td>165665</td>\n",
       "      <td>196</td>\n",
       "      <td>Soda</td>\n",
       "      <td>...</td>\n",
       "      <td>Mid Range Product</td>\n",
       "      <td>Second Busiest Day</td>\n",
       "      <td>Most orders</td>\n",
       "      <td>8</td>\n",
       "      <td>New customer</td>\n",
       "      <td>7.988889</td>\n",
       "      <td>Low spender</td>\n",
       "      <td>19.0</td>\n",
       "      <td>Regular Customer</td>\n",
       "      <td>Midwest</td>\n",
       "    </tr>\n",
       "    <tr>\n",
       "      <th>3</th>\n",
       "      <td>26711</td>\n",
       "      <td>Female</td>\n",
       "      <td>Missouri</td>\n",
       "      <td>48</td>\n",
       "      <td>1/1/2017</td>\n",
       "      <td>3</td>\n",
       "      <td>married</td>\n",
       "      <td>165665</td>\n",
       "      <td>6184</td>\n",
       "      <td>Clementines</td>\n",
       "      <td>...</td>\n",
       "      <td>Low Range Product</td>\n",
       "      <td>Regularly Busy</td>\n",
       "      <td>Most orders</td>\n",
       "      <td>8</td>\n",
       "      <td>New customer</td>\n",
       "      <td>7.988889</td>\n",
       "      <td>Low spender</td>\n",
       "      <td>19.0</td>\n",
       "      <td>Regular Customer</td>\n",
       "      <td>Midwest</td>\n",
       "    </tr>\n",
       "    <tr>\n",
       "      <th>4</th>\n",
       "      <td>26711</td>\n",
       "      <td>Female</td>\n",
       "      <td>Missouri</td>\n",
       "      <td>48</td>\n",
       "      <td>1/1/2017</td>\n",
       "      <td>3</td>\n",
       "      <td>married</td>\n",
       "      <td>165665</td>\n",
       "      <td>6184</td>\n",
       "      <td>Clementines</td>\n",
       "      <td>...</td>\n",
       "      <td>Low Range Product</td>\n",
       "      <td>Second Slowest Day</td>\n",
       "      <td>Most orders</td>\n",
       "      <td>8</td>\n",
       "      <td>New customer</td>\n",
       "      <td>7.988889</td>\n",
       "      <td>Low spender</td>\n",
       "      <td>19.0</td>\n",
       "      <td>Regular Customer</td>\n",
       "      <td>Midwest</td>\n",
       "    </tr>\n",
       "  </tbody>\n",
       "</table>\n",
       "<p>5 rows × 32 columns</p>\n",
       "</div>"
      ],
      "text/plain": [
       "  user_id  gender     state  age date_joined  number_of_dependants  \\\n",
       "0   26711  Female  Missouri   48    1/1/2017                     3   \n",
       "1   26711  Female  Missouri   48    1/1/2017                     3   \n",
       "2   26711  Female  Missouri   48    1/1/2017                     3   \n",
       "3   26711  Female  Missouri   48    1/1/2017                     3   \n",
       "4   26711  Female  Missouri   48    1/1/2017                     3   \n",
       "\n",
       "  marital_status  income  product_id product_name  ...        price_label  \\\n",
       "0        married  165665         196         Soda  ...  Mid Range Product   \n",
       "1        married  165665         196         Soda  ...  Mid Range Product   \n",
       "2        married  165665         196         Soda  ...  Mid Range Product   \n",
       "3        married  165665        6184  Clementines  ...  Low Range Product   \n",
       "4        married  165665        6184  Clementines  ...  Low Range Product   \n",
       "\n",
       "         busiest_days  busiest_period_of_day  max_order  loyalty_flag  \\\n",
       "0  Second Busiest Day            Most orders          8  New customer   \n",
       "1      Regularly Busy            Most orders          8  New customer   \n",
       "2  Second Busiest Day            Most orders          8  New customer   \n",
       "3      Regularly Busy            Most orders          8  New customer   \n",
       "4  Second Slowest Day            Most orders          8  New customer   \n",
       "\n",
       "   average_price  spending_flag  median_frequency  order_frequency_flag  \\\n",
       "0       7.988889    Low spender              19.0      Regular Customer   \n",
       "1       7.988889    Low spender              19.0      Regular Customer   \n",
       "2       7.988889    Low spender              19.0      Regular Customer   \n",
       "3       7.988889    Low spender              19.0      Regular Customer   \n",
       "4       7.988889    Low spender              19.0      Regular Customer   \n",
       "\n",
       "    region  \n",
       "0  Midwest  \n",
       "1  Midwest  \n",
       "2  Midwest  \n",
       "3  Midwest  \n",
       "4  Midwest  \n",
       "\n",
       "[5 rows x 32 columns]"
      ]
     },
     "execution_count": 16,
     "metadata": {},
     "output_type": "execute_result"
    }
   ],
   "source": [
    "#confirms output\n",
    "all_merged.head()"
   ]
  },
  {
   "cell_type": "code",
   "execution_count": 17,
   "id": "e2549502",
   "metadata": {
    "scrolled": true
   },
   "outputs": [
    {
     "data": {
      "text/plain": [
       "region\n",
       "South        10791885\n",
       "West          8292913\n",
       "Midwest       7597325\n",
       "Northeast     5722736\n",
       "Name: count, dtype: int64"
      ]
     },
     "execution_count": 17,
     "metadata": {},
     "output_type": "execute_result"
    }
   ],
   "source": [
    "#checks to output values\n",
    "all_merged['region'].value_counts(dropna = False)"
   ]
  },
  {
   "cell_type": "code",
   "execution_count": 18,
   "id": "67067e57",
   "metadata": {},
   "outputs": [
    {
     "data": {
      "text/plain": [
       "spending_flag\n",
       "Low spender     32285131\n",
       "High spender      119728\n",
       "Name: count, dtype: int64"
      ]
     },
     "execution_count": 18,
     "metadata": {},
     "output_type": "execute_result"
    }
   ],
   "source": [
    "all_merged['spending_flag'].value_counts(dropna = False)"
   ]
  },
  {
   "cell_type": "code",
   "execution_count": 19,
   "id": "44e1eb7d",
   "metadata": {},
   "outputs": [],
   "source": [
    "#creates a crosstab to see if there is a difference in spending habits accross the US regions \n",
    "spending_region_crosstab = pd.crosstab(all_merged['region'], all_merged['spending_flag'], dropna = False)"
   ]
  },
  {
   "cell_type": "code",
   "execution_count": 20,
   "id": "fed2770f",
   "metadata": {},
   "outputs": [
    {
     "data": {
      "text/html": [
       "<div>\n",
       "<style scoped>\n",
       "    .dataframe tbody tr th:only-of-type {\n",
       "        vertical-align: middle;\n",
       "    }\n",
       "\n",
       "    .dataframe tbody tr th {\n",
       "        vertical-align: top;\n",
       "    }\n",
       "\n",
       "    .dataframe thead th {\n",
       "        text-align: right;\n",
       "    }\n",
       "</style>\n",
       "<table border=\"1\" class=\"dataframe\">\n",
       "  <thead>\n",
       "    <tr style=\"text-align: right;\">\n",
       "      <th>spending_flag</th>\n",
       "      <th>High spender</th>\n",
       "      <th>Low spender</th>\n",
       "    </tr>\n",
       "    <tr>\n",
       "      <th>region</th>\n",
       "      <th></th>\n",
       "      <th></th>\n",
       "    </tr>\n",
       "  </thead>\n",
       "  <tbody>\n",
       "    <tr>\n",
       "      <th>Midwest</th>\n",
       "      <td>29265</td>\n",
       "      <td>7568060</td>\n",
       "    </tr>\n",
       "    <tr>\n",
       "      <th>Northeast</th>\n",
       "      <td>18642</td>\n",
       "      <td>5704094</td>\n",
       "    </tr>\n",
       "    <tr>\n",
       "      <th>South</th>\n",
       "      <td>40579</td>\n",
       "      <td>10751306</td>\n",
       "    </tr>\n",
       "    <tr>\n",
       "      <th>West</th>\n",
       "      <td>31242</td>\n",
       "      <td>8261671</td>\n",
       "    </tr>\n",
       "  </tbody>\n",
       "</table>\n",
       "</div>"
      ],
      "text/plain": [
       "spending_flag  High spender  Low spender\n",
       "region                                  \n",
       "Midwest               29265      7568060\n",
       "Northeast             18642      5704094\n",
       "South                 40579     10751306\n",
       "West                  31242      8261671"
      ]
     },
     "execution_count": 20,
     "metadata": {},
     "output_type": "execute_result"
    }
   ],
   "source": [
    "spending_region_crosstab"
   ]
  },
  {
   "cell_type": "code",
   "execution_count": 21,
   "id": "b037bd1a",
   "metadata": {},
   "outputs": [
    {
     "data": {
      "text/plain": [
       "Text(0.5, 0, 'Region')"
      ]
     },
     "execution_count": 21,
     "metadata": {},
     "output_type": "execute_result"
    },
    {
     "data": {
      "image/png": "[encoded data removed]",
      "text/plain": [
       "<Figure size 640x480 with 1 Axes>"
      ]
     },
     "metadata": {},
     "output_type": "display_data"
    }
   ],
   "source": [
    "spend_region_bar = spending_region_crosstab.plot.bar(title = 'Spending by Region')\n",
    "plt.xlabel('Region')"
   ]
  },
  {
   "cell_type": "code",
   "execution_count": 22,
   "id": "c2df5317",
   "metadata": {},
   "outputs": [],
   "source": [
    "spend_region_bar.figure.savefig(os.path.join(path_3,'spend_region_bar.png'),dpi=300, bbox_inches = \"tight\")"
   ]
  },
  {
   "cell_type": "code",
   "execution_count": 23,
   "id": "7798be37",
   "metadata": {
    "scrolled": true
   },
   "outputs": [],
   "source": [
    "#creates a percentage of high spenders per region\n",
    "hs_percent = ((spending_region_crosstab['High spender']/(spending_region_crosstab['High spender'] + spending_region_crosstab['Low spender']))*100).sort_values(ascending = False)"
   ]
  },
  {
   "cell_type": "code",
   "execution_count": 24,
   "id": "ce4aae2e",
   "metadata": {},
   "outputs": [],
   "source": [
    "#creates a percentatge of low spenders per region\n",
    "ls_percent = ((spending_region_crosstab['Low spender']/(spending_region_crosstab['High spender'] + spending_region_crosstab['Low spender']))*100).sort_values(ascending = False)"
   ]
  },
  {
   "cell_type": "code",
   "execution_count": 25,
   "id": "5c16ee70",
   "metadata": {},
   "outputs": [],
   "source": [
    "hs_percent = dict(hs_percent)"
   ]
  },
  {
   "cell_type": "code",
   "execution_count": 26,
   "id": "86a58576",
   "metadata": {},
   "outputs": [],
   "source": [
    "ls_percent = dict(ls_percent)"
   ]
  },
  {
   "cell_type": "code",
   "execution_count": 27,
   "id": "702d910b",
   "metadata": {},
   "outputs": [
    {
     "name": "stdout",
     "output_type": "stream",
     "text": [
      "High Spender:\n",
      "{'Midwest': 0.3852013702191232, 'West': 0.37673131262802345, 'South': 0.3760140142338433, 'Northeast': 0.3257532760553693}\n",
      "\n",
      "Low Spender:\n",
      "{'Northeast': 99.67424672394462, 'South': 99.62398598576615, 'West': 99.62326868737198, 'Midwest': 99.61479862978088}\n"
     ]
    }
   ],
   "source": [
    "print(f'High Spender:\\n{hs_percent}\\n\\nLow Spender:\\n{ls_percent}')"
   ]
  },
  {
   "cell_type": "markdown",
   "id": "47f23f00",
   "metadata": {},
   "source": [
    "Based on the percentages the Midwest has the highest for high spenders while the Northeast has the largest percentage for low spenders.\n",
    "\n",
    "Based on the totals though, the south has the largest amount of high and low spenders, along with the largest population. \n"
   ]
  },
  {
   "cell_type": "markdown",
   "id": "5a4572ae",
   "metadata": {},
   "source": [
    "## 4) Removing Low-Activity Customers from the DataFrame"
   ]
  },
  {
   "cell_type": "code",
   "execution_count": 28,
   "id": "1f30f739",
   "metadata": {},
   "outputs": [],
   "source": [
    "#creates an exlucsion flag for low activity customers\n",
    "all_merged.loc[all_merged['max_order']<5, 'exclusion_flag'] = 'Low Activity Customer'"
   ]
  },
  {
   "cell_type": "code",
   "execution_count": 29,
   "id": "c007e77d",
   "metadata": {},
   "outputs": [
    {
     "data": {
      "text/plain": [
       "exclusion_flag\n",
       "NaN                      30964564\n",
       "Low Activity Customer     1440295\n",
       "Name: count, dtype: int64"
      ]
     },
     "execution_count": 29,
     "metadata": {},
     "output_type": "execute_result"
    }
   ],
   "source": [
    "#shows the counts of low activity to high activity (NaN) customers\n",
    "all_merged['exclusion_flag'].value_counts(dropna = False)"
   ]
  },
  {
   "cell_type": "code",
   "execution_count": 30,
   "id": "3d78e411",
   "metadata": {},
   "outputs": [],
   "source": [
    "#creates a new df for the low activity customers\n",
    "low_activity_customers = all_merged[all_merged['exclusion_flag'] == 'Low Activity Customer']"
   ]
  },
  {
   "cell_type": "code",
   "execution_count": 31,
   "id": "f082f13f",
   "metadata": {
    "scrolled": true
   },
   "outputs": [
    {
     "data": {
      "text/plain": [
       "(1440295, 33)"
      ]
     },
     "execution_count": 31,
     "metadata": {},
     "output_type": "execute_result"
    }
   ],
   "source": [
    "low_activity_customers.shape"
   ]
  },
  {
   "cell_type": "code",
   "execution_count": 32,
   "id": "08339dd1",
   "metadata": {},
   "outputs": [],
   "source": [
    "#exports the low activity customers\n",
    "low_activity_customers.to_pickle(os.path.join(path, 'low_activity_customers.pkl'))"
   ]
  },
  {
   "cell_type": "code",
   "execution_count": 33,
   "id": "2f377ed2",
   "metadata": {},
   "outputs": [],
   "source": [
    "#removes the low activity customers from the data frame\n",
    "all_merged = all_merged[all_merged['exclusion_flag']!='Low Activity Customer']"
   ]
  },
  {
   "cell_type": "code",
   "execution_count": 34,
   "id": "93862b24",
   "metadata": {},
   "outputs": [],
   "source": [
    "#removes the exclustion flag since it is no longer needed\n",
    "all_merged = all_merged.drop(columns = ['exclusion_flag'])"
   ]
  },
  {
   "cell_type": "code",
   "execution_count": 35,
   "id": "f32916a3",
   "metadata": {},
   "outputs": [
    {
     "data": {
      "text/plain": [
       "(30964564, 32)"
      ]
     },
     "execution_count": 35,
     "metadata": {},
     "output_type": "execute_result"
    }
   ],
   "source": [
    "all_merged.shape"
   ]
  },
  {
   "cell_type": "markdown",
   "id": "84a4c020",
   "metadata": {},
   "source": [
    "## 5) Creating a Customer Profile"
   ]
  },
  {
   "cell_type": "code",
   "execution_count": 36,
   "id": "1fa5a4fe",
   "metadata": {},
   "outputs": [],
   "source": [
    "#the next three loc functions create an income class column and assign a classification value based on the income amount\n",
    "all_merged.loc[all_merged['income'] <= 48500, 'income_class'] = 'Lower-Income'"
   ]
  },
  {
   "cell_type": "code",
   "execution_count": 37,
   "id": "f4a862af",
   "metadata": {},
   "outputs": [],
   "source": [
    "all_merged.loc[(all_merged['income'] > 48500)&(all_merged['income'] <= 145500), 'income_class'] = 'Middle-Income'"
   ]
  },
  {
   "cell_type": "code",
   "execution_count": 38,
   "id": "b12a3a53",
   "metadata": {},
   "outputs": [],
   "source": [
    "all_merged.loc[all_merged['income'] > 145500, 'income_class'] = 'Upper-Income'"
   ]
  },
  {
   "cell_type": "code",
   "execution_count": 39,
   "id": "02978b3b",
   "metadata": {},
   "outputs": [
    {
     "data": {
      "text/plain": [
       "income_class\n",
       "Middle-Income    23128350\n",
       "Upper-Income      4690090\n",
       "Lower-Income      3146124\n",
       "Name: count, dtype: int64"
      ]
     },
     "execution_count": 39,
     "metadata": {},
     "output_type": "execute_result"
    }
   ],
   "source": [
    "#checks income_class columns counts\n",
    "all_merged['income_class'].value_counts(dropna = False)"
   ]
  },
  {
   "cell_type": "code",
   "execution_count": 40,
   "id": "9925ebf7",
   "metadata": {},
   "outputs": [],
   "source": [
    "#the next three loc functions create an age_group column and assign a value to it based on how old the customer is\n",
    "all_merged.loc[all_merged['age']<=25, 'age_group'] = 'Young Adult'"
   ]
  },
  {
   "cell_type": "code",
   "execution_count": 41,
   "id": "f816b3ad",
   "metadata": {},
   "outputs": [],
   "source": [
    "all_merged.loc[(all_merged['age']>25) & (all_merged['age']<61), 'age_group'] = 'Adult'"
   ]
  },
  {
   "cell_type": "code",
   "execution_count": 42,
   "id": "9976c696",
   "metadata": {},
   "outputs": [],
   "source": [
    "all_merged.loc[all_merged['age']>60, 'age_group'] = 'Older Adult'"
   ]
  },
  {
   "cell_type": "code",
   "execution_count": 43,
   "id": "7a0702b0",
   "metadata": {},
   "outputs": [],
   "source": [
    "#renames the index columns as department_id to be used for a merge\n",
    "deps_df = deps_df.rename(columns = {'Unnamed: 0': 'department_id'})"
   ]
  },
  {
   "cell_type": "code",
   "execution_count": 44,
   "id": "1f36708c",
   "metadata": {},
   "outputs": [],
   "source": [
    "#the departments_wrangled file is merged with the all_merged df on the department id number\n",
    "all_merged = deps_df.merge(all_merged, on = 'department_id')"
   ]
  },
  {
   "cell_type": "code",
   "execution_count": 45,
   "id": "dc6f06d5",
   "metadata": {},
   "outputs": [
    {
     "data": {
      "text/plain": [
       "age_group\n",
       "Adult          16987439\n",
       "Older Adult    10112607\n",
       "Young Adult     3864518\n",
       "Name: count, dtype: int64"
      ]
     },
     "execution_count": 45,
     "metadata": {},
     "output_type": "execute_result"
    }
   ],
   "source": [
    "all_merged['age_group'].value_counts(dropna = False)"
   ]
  },
  {
   "cell_type": "code",
   "execution_count": 46,
   "id": "7011b52d",
   "metadata": {},
   "outputs": [
    {
     "data": {
      "text/plain": [
       "marital_status\n",
       "married                             21743711\n",
       "single                               5094410\n",
       "divorced/widowed                     2645271\n",
       "living with parents and siblings     1481172\n",
       "Name: count, dtype: int64"
      ]
     },
     "execution_count": 46,
     "metadata": {},
     "output_type": "execute_result"
    }
   ],
   "source": [
    "#checks marital_status count\n",
    "all_merged['marital_status'].value_counts(dropna = False)"
   ]
  },
  {
   "cell_type": "code",
   "execution_count": 47,
   "id": "6698f7eb",
   "metadata": {},
   "outputs": [
    {
     "data": {
      "text/plain": [
       "number_of_dependants\n",
       "3    7772516\n",
       "0    7739681\n",
       "2    7733261\n",
       "1    7719106\n",
       "Name: count, dtype: int64"
      ]
     },
     "execution_count": 47,
     "metadata": {},
     "output_type": "execute_result"
    }
   ],
   "source": [
    "#checks number_of_dependants count\n",
    "all_merged['number_of_dependants'].value_counts(dropna = False)"
   ]
  },
  {
   "cell_type": "code",
   "execution_count": 48,
   "id": "a82fb08d",
   "metadata": {
    "scrolled": true
   },
   "outputs": [],
   "source": [
    "#creates list for the single and married values in the marital status columnm to reference in the following loc functions\n",
    "single = ['single', 'divorced/widowed', 'living with parents and siblings']\n",
    "mar    = ['married']\n",
    "#The next 6 loc functions create a profile column and assigns a classification based on the marital status and number of dependants\n",
    "all_merged.loc[(all_merged['marital_status'].isin(single)) & (all_merged['number_of_dependants'] == 0) & (all_merged['gender'] == 'Male'), 'profile'] = 'Single Male'\n",
    "all_merged.loc[(all_merged['marital_status'].isin(single)) & (all_merged['number_of_dependants'] == 0) & (all_merged['gender'] == 'Female'), 'profile'] = 'Single Female'\n",
    "\n",
    "all_merged.loc[(all_merged['marital_status'].isin(single)) & (all_merged['number_of_dependants'] > 0) & (all_merged['gender'] == 'Female'), 'profile'] = 'Single Mom'\n",
    "all_merged.loc[(all_merged['marital_status'].isin(single)) & (all_merged['number_of_dependants'] > 0) & (all_merged['gender'] == 'Male'), 'profile'] = 'Single Dad'\n",
    "\n",
    "all_merged.loc[(all_merged['marital_status'].isin(mar)) & (all_merged['number_of_dependants'] > 0) & (all_merged['gender'] == 'Female'), 'profile'] = 'Married Mom'\n",
    "all_merged.loc[(all_merged['marital_status'].isin(mar)) & (all_merged['number_of_dependants'] > 0) & (all_merged['gender'] == 'Male'), 'profile'] = 'Married Dad'\n"
   ]
  },
  {
   "cell_type": "code",
   "execution_count": 49,
   "id": "55b973c1",
   "metadata": {},
   "outputs": [
    {
     "data": {
      "text/plain": [
       "profile\n",
       "Married Dad      10947746\n",
       "Married Mom      10795965\n",
       "Single Male       3881398\n",
       "Single Female     3858283\n",
       "Single Dad         757596\n",
       "Single Mom         723576\n",
       "Name: count, dtype: int64"
      ]
     },
     "execution_count": 49,
     "metadata": {},
     "output_type": "execute_result"
    }
   ],
   "source": [
    "#checks the count for the new profile column\n",
    "all_merged['profile'].value_counts(dropna = False)"
   ]
  },
  {
   "cell_type": "code",
   "execution_count": 50,
   "id": "c42a8ea9",
   "metadata": {
    "scrolled": true
   },
   "outputs": [
    {
     "data": {
      "text/plain": [
       "(30964564, 36)"
      ]
     },
     "execution_count": 50,
     "metadata": {},
     "output_type": "execute_result"
    }
   ],
   "source": [
    "all_merged.shape"
   ]
  },
  {
   "cell_type": "markdown",
   "id": "fd220714",
   "metadata": {},
   "source": [
    "## 6) Creating a Visualization to show the Distribution of Profiles"
   ]
  },
  {
   "cell_type": "code",
   "execution_count": 59,
   "id": "3df145c3",
   "metadata": {
    "scrolled": false
   },
   "outputs": [
    {
     "data": {
      "text/plain": [
       "Text(0.5, 0, 'Income Class')"
      ]
     },
     "execution_count": 59,
     "metadata": {},
     "output_type": "execute_result"
    },
    {
     "data": {
      "image/png": "[encoded data removed]",
      "text/plain": [
       "<Figure size 640x480 with 1 Axes>"
      ]
     },
     "metadata": {},
     "output_type": "display_data"
    }
   ],
   "source": [
    "#creates bar chart of income_class distribution\n",
    "income_bar = all_merged['income_class'].value_counts().plot.bar()\n",
    "plt.title('Distribution of Income')\n",
    "plt.xlabel('Income Class')"
   ]
  },
  {
   "cell_type": "code",
   "execution_count": 60,
   "id": "e90457c2",
   "metadata": {},
   "outputs": [],
   "source": [
    "#exports the income distribution bar graph\n",
    "income_bar.figure.savefig(os.path.join(path_3,'income_bar.png'),dpi=300, bbox_inches = \"tight\")"
   ]
  },
  {
   "cell_type": "code",
   "execution_count": 61,
   "id": "3dad4955",
   "metadata": {
    "scrolled": true
   },
   "outputs": [
    {
     "data": {
      "text/plain": [
       "Text(0.5, 0, 'Age Group')"
      ]
     },
     "execution_count": 61,
     "metadata": {},
     "output_type": "execute_result"
    },
    {
     "data": {
      "image/png": "[encoded data removed]",
      "text/plain": [
       "<Figure size 640x480 with 1 Axes>"
      ]
     },
     "metadata": {},
     "output_type": "display_data"
    }
   ],
   "source": [
    "#creates bar chart of age_group distribution\n",
    "age_bar = all_merged['age_group'].value_counts().plot.bar()\n",
    "plt.title('Distribution of Age Groups')\n",
    "plt.xlabel('Age Group')"
   ]
  },
  {
   "cell_type": "code",
   "execution_count": 62,
   "id": "c97ff85d",
   "metadata": {},
   "outputs": [],
   "source": [
    "#exports the age_group distribution bar graph\n",
    "age_bar.figure.savefig(os.path.join(path_3,'age_bar.png'),dpi=300, bbox_inches = \"tight\")"
   ]
  },
  {
   "cell_type": "code",
   "execution_count": 64,
   "id": "82e9b1ca",
   "metadata": {},
   "outputs": [
    {
     "data": {
      "text/plain": [
       "Text(0.5, 0, 'Department')"
      ]
     },
     "execution_count": 64,
     "metadata": {},
     "output_type": "execute_result"
    },
    {
     "data": {
      "image/png": "[encoded data removed]",
      "text/plain": [
       "<Figure size 640x480 with 1 Axes>"
      ]
     },
     "metadata": {},
     "output_type": "display_data"
    }
   ],
   "source": [
    "#creates bar chart of department distribution\n",
    "department_bar = all_merged['department'].value_counts().plot.bar()\n",
    "plt.title('Distribution of Departments')\n",
    "plt.xlabel('Department')"
   ]
  },
  {
   "cell_type": "code",
   "execution_count": 63,
   "id": "c00c01ab",
   "metadata": {},
   "outputs": [],
   "source": [
    "#exports the Departments distribution bar graph\n",
    "department_bar.figure.savefig(os.path.join(path_3, 'department_bar.png'), dpi = 300, bbox_inches = 'tight')"
   ]
  },
  {
   "cell_type": "code",
   "execution_count": 65,
   "id": "854a9ac6",
   "metadata": {},
   "outputs": [
    {
     "data": {
      "text/plain": [
       "Text(0.5, 1.0, 'Customer Profile Distribution')"
      ]
     },
     "execution_count": 65,
     "metadata": {},
     "output_type": "execute_result"
    },
    {
     "data": {
      "image/png": "[encoded data removed]",
      "text/plain": [
       "<Figure size 640x480 with 1 Axes>"
      ]
     },
     "metadata": {},
     "output_type": "display_data"
    }
   ],
   "source": [
    "#creates bar chart of profile distribution\n",
    "profile_bar = all_merged['profile'].value_counts().plot.bar()\n",
    "plt.title('Customer Profile Distribution')"
   ]
  },
  {
   "cell_type": "code",
   "execution_count": 66,
   "id": "9d88777e",
   "metadata": {},
   "outputs": [],
   "source": [
    "#exports the profile distribution bar graph\n",
    "profile_bar.figure.savefig(os.path.join(path_3, 'profile_bar.png'), dpi=300, bbox_inches='tight')"
   ]
  },
  {
   "cell_type": "markdown",
   "id": "5963cc6d",
   "metadata": {},
   "source": [
    "## 7) Aggregation of the Max, Mean, and Min Variables on a Customer-Profile Level for Usage Frequency and Expenditure."
   ]
  },
  {
   "cell_type": "code",
   "execution_count": 67,
   "id": "98e5bb50",
   "metadata": {},
   "outputs": [],
   "source": [
    "#creates a variable that contains the mean, max, and min values of the days since last order and prices columns grouped by income\n",
    "income_agg = all_merged.groupby('income_class')[['days_since_last_order','prices']].agg(['mean','max','min'])"
   ]
  },
  {
   "cell_type": "code",
   "execution_count": 68,
   "id": "a8aa7266",
   "metadata": {
    "scrolled": true
   },
   "outputs": [
    {
     "data": {
      "text/html": [
       "<div>\n",
       "<style scoped>\n",
       "    .dataframe tbody tr th:only-of-type {\n",
       "        vertical-align: middle;\n",
       "    }\n",
       "\n",
       "    .dataframe tbody tr th {\n",
       "        vertical-align: top;\n",
       "    }\n",
       "\n",
       "    .dataframe thead tr th {\n",
       "        text-align: left;\n",
       "    }\n",
       "\n",
       "    .dataframe thead tr:last-of-type th {\n",
       "        text-align: right;\n",
       "    }\n",
       "</style>\n",
       "<table border=\"1\" class=\"dataframe\">\n",
       "  <thead>\n",
       "    <tr>\n",
       "      <th></th>\n",
       "      <th colspan=\"3\" halign=\"left\">days_since_last_order</th>\n",
       "      <th colspan=\"3\" halign=\"left\">prices</th>\n",
       "    </tr>\n",
       "    <tr>\n",
       "      <th></th>\n",
       "      <th>mean</th>\n",
       "      <th>max</th>\n",
       "      <th>min</th>\n",
       "      <th>mean</th>\n",
       "      <th>max</th>\n",
       "      <th>min</th>\n",
       "    </tr>\n",
       "    <tr>\n",
       "      <th>income_class</th>\n",
       "      <th></th>\n",
       "      <th></th>\n",
       "      <th></th>\n",
       "      <th></th>\n",
       "      <th></th>\n",
       "      <th></th>\n",
       "    </tr>\n",
       "  </thead>\n",
       "  <tbody>\n",
       "    <tr>\n",
       "      <th>Lower-Income</th>\n",
       "      <td>11.194266</td>\n",
       "      <td>30.0</td>\n",
       "      <td>0.0</td>\n",
       "      <td>6.682987</td>\n",
       "      <td>25.0</td>\n",
       "      <td>1.0</td>\n",
       "    </tr>\n",
       "    <tr>\n",
       "      <th>Middle-Income</th>\n",
       "      <td>10.778441</td>\n",
       "      <td>30.0</td>\n",
       "      <td>0.0</td>\n",
       "      <td>7.910370</td>\n",
       "      <td>25.0</td>\n",
       "      <td>1.0</td>\n",
       "    </tr>\n",
       "    <tr>\n",
       "      <th>Upper-Income</th>\n",
       "      <td>10.711185</td>\n",
       "      <td>30.0</td>\n",
       "      <td>0.0</td>\n",
       "      <td>7.943054</td>\n",
       "      <td>25.0</td>\n",
       "      <td>1.0</td>\n",
       "    </tr>\n",
       "  </tbody>\n",
       "</table>\n",
       "</div>"
      ],
      "text/plain": [
       "              days_since_last_order               prices           \n",
       "                               mean   max  min      mean   max  min\n",
       "income_class                                                       \n",
       "Lower-Income              11.194266  30.0  0.0  6.682987  25.0  1.0\n",
       "Middle-Income             10.778441  30.0  0.0  7.910370  25.0  1.0\n",
       "Upper-Income              10.711185  30.0  0.0  7.943054  25.0  1.0"
      ]
     },
     "execution_count": 68,
     "metadata": {},
     "output_type": "execute_result"
    }
   ],
   "source": [
    "income_agg"
   ]
  },
  {
   "cell_type": "code",
   "execution_count": 69,
   "id": "062c44ca",
   "metadata": {},
   "outputs": [],
   "source": [
    "#creates a variable that contains the mean, max, and min values of the days since last order and prices columns grouped by age_group\n",
    "age_agg = all_merged.groupby('age_group')[['days_since_last_order','prices']].agg(['mean','max','min'])"
   ]
  },
  {
   "cell_type": "code",
   "execution_count": 70,
   "id": "3876be64",
   "metadata": {
    "scrolled": true
   },
   "outputs": [
    {
     "data": {
      "text/html": [
       "<div>\n",
       "<style scoped>\n",
       "    .dataframe tbody tr th:only-of-type {\n",
       "        vertical-align: middle;\n",
       "    }\n",
       "\n",
       "    .dataframe tbody tr th {\n",
       "        vertical-align: top;\n",
       "    }\n",
       "\n",
       "    .dataframe thead tr th {\n",
       "        text-align: left;\n",
       "    }\n",
       "\n",
       "    .dataframe thead tr:last-of-type th {\n",
       "        text-align: right;\n",
       "    }\n",
       "</style>\n",
       "<table border=\"1\" class=\"dataframe\">\n",
       "  <thead>\n",
       "    <tr>\n",
       "      <th></th>\n",
       "      <th colspan=\"3\" halign=\"left\">days_since_last_order</th>\n",
       "      <th colspan=\"3\" halign=\"left\">prices</th>\n",
       "    </tr>\n",
       "    <tr>\n",
       "      <th></th>\n",
       "      <th>mean</th>\n",
       "      <th>max</th>\n",
       "      <th>min</th>\n",
       "      <th>mean</th>\n",
       "      <th>max</th>\n",
       "      <th>min</th>\n",
       "    </tr>\n",
       "    <tr>\n",
       "      <th>age_group</th>\n",
       "      <th></th>\n",
       "      <th></th>\n",
       "      <th></th>\n",
       "      <th></th>\n",
       "      <th></th>\n",
       "      <th></th>\n",
       "    </tr>\n",
       "  </thead>\n",
       "  <tbody>\n",
       "    <tr>\n",
       "      <th>Adult</th>\n",
       "      <td>10.823817</td>\n",
       "      <td>30.0</td>\n",
       "      <td>0.0</td>\n",
       "      <td>7.788581</td>\n",
       "      <td>25.0</td>\n",
       "      <td>1.0</td>\n",
       "    </tr>\n",
       "    <tr>\n",
       "      <th>Older Adult</th>\n",
       "      <td>10.791879</td>\n",
       "      <td>30.0</td>\n",
       "      <td>0.0</td>\n",
       "      <td>7.796144</td>\n",
       "      <td>25.0</td>\n",
       "      <td>1.0</td>\n",
       "    </tr>\n",
       "    <tr>\n",
       "      <th>Young Adult</th>\n",
       "      <td>10.799071</td>\n",
       "      <td>30.0</td>\n",
       "      <td>0.0</td>\n",
       "      <td>7.784889</td>\n",
       "      <td>25.0</td>\n",
       "      <td>1.0</td>\n",
       "    </tr>\n",
       "  </tbody>\n",
       "</table>\n",
       "</div>"
      ],
      "text/plain": [
       "            days_since_last_order               prices           \n",
       "                             mean   max  min      mean   max  min\n",
       "age_group                                                        \n",
       "Adult                   10.823817  30.0  0.0  7.788581  25.0  1.0\n",
       "Older Adult             10.791879  30.0  0.0  7.796144  25.0  1.0\n",
       "Young Adult             10.799071  30.0  0.0  7.784889  25.0  1.0"
      ]
     },
     "execution_count": 70,
     "metadata": {},
     "output_type": "execute_result"
    }
   ],
   "source": [
    "age_agg"
   ]
  },
  {
   "cell_type": "code",
   "execution_count": 71,
   "id": "6d0d9b6b",
   "metadata": {},
   "outputs": [],
   "source": [
    "#creates a variable that contains the mean, max, and min values of the days since last order and prices columns grouped by department\n",
    "dep_agg = all_merged.groupby('department')[['days_since_last_order','prices']].agg(['mean','max','min'])"
   ]
  },
  {
   "cell_type": "code",
   "execution_count": 72,
   "id": "fb8a0367",
   "metadata": {
    "scrolled": false
   },
   "outputs": [
    {
     "data": {
      "text/html": [
       "<div>\n",
       "<style scoped>\n",
       "    .dataframe tbody tr th:only-of-type {\n",
       "        vertical-align: middle;\n",
       "    }\n",
       "\n",
       "    .dataframe tbody tr th {\n",
       "        vertical-align: top;\n",
       "    }\n",
       "\n",
       "    .dataframe thead tr th {\n",
       "        text-align: left;\n",
       "    }\n",
       "\n",
       "    .dataframe thead tr:last-of-type th {\n",
       "        text-align: right;\n",
       "    }\n",
       "</style>\n",
       "<table border=\"1\" class=\"dataframe\">\n",
       "  <thead>\n",
       "    <tr>\n",
       "      <th></th>\n",
       "      <th colspan=\"3\" halign=\"left\">days_since_last_order</th>\n",
       "      <th colspan=\"3\" halign=\"left\">prices</th>\n",
       "    </tr>\n",
       "    <tr>\n",
       "      <th></th>\n",
       "      <th>mean</th>\n",
       "      <th>max</th>\n",
       "      <th>min</th>\n",
       "      <th>mean</th>\n",
       "      <th>max</th>\n",
       "      <th>min</th>\n",
       "    </tr>\n",
       "    <tr>\n",
       "      <th>department</th>\n",
       "      <th></th>\n",
       "      <th></th>\n",
       "      <th></th>\n",
       "      <th></th>\n",
       "      <th></th>\n",
       "      <th></th>\n",
       "    </tr>\n",
       "  </thead>\n",
       "  <tbody>\n",
       "    <tr>\n",
       "      <th>alcohol</th>\n",
       "      <td>10.006658</td>\n",
       "      <td>30.0</td>\n",
       "      <td>0.0</td>\n",
       "      <td>8.150699</td>\n",
       "      <td>15.0</td>\n",
       "      <td>1.0</td>\n",
       "    </tr>\n",
       "    <tr>\n",
       "      <th>babies</th>\n",
       "      <td>9.780844</td>\n",
       "      <td>30.0</td>\n",
       "      <td>0.0</td>\n",
       "      <td>7.634399</td>\n",
       "      <td>15.0</td>\n",
       "      <td>1.0</td>\n",
       "    </tr>\n",
       "    <tr>\n",
       "      <th>bakery</th>\n",
       "      <td>10.808401</td>\n",
       "      <td>30.0</td>\n",
       "      <td>0.0</td>\n",
       "      <td>7.857482</td>\n",
       "      <td>15.0</td>\n",
       "      <td>1.0</td>\n",
       "    </tr>\n",
       "    <tr>\n",
       "      <th>beverages</th>\n",
       "      <td>10.768469</td>\n",
       "      <td>30.0</td>\n",
       "      <td>0.0</td>\n",
       "      <td>7.682556</td>\n",
       "      <td>15.0</td>\n",
       "      <td>1.0</td>\n",
       "    </tr>\n",
       "    <tr>\n",
       "      <th>breakfast</th>\n",
       "      <td>11.001313</td>\n",
       "      <td>30.0</td>\n",
       "      <td>0.0</td>\n",
       "      <td>8.031647</td>\n",
       "      <td>14.9</td>\n",
       "      <td>1.0</td>\n",
       "    </tr>\n",
       "    <tr>\n",
       "      <th>bulk</th>\n",
       "      <td>9.880211</td>\n",
       "      <td>30.0</td>\n",
       "      <td>0.0</td>\n",
       "      <td>8.346919</td>\n",
       "      <td>14.1</td>\n",
       "      <td>1.4</td>\n",
       "    </tr>\n",
       "    <tr>\n",
       "      <th>canned goods</th>\n",
       "      <td>11.316872</td>\n",
       "      <td>30.0</td>\n",
       "      <td>0.0</td>\n",
       "      <td>7.546660</td>\n",
       "      <td>15.0</td>\n",
       "      <td>1.0</td>\n",
       "    </tr>\n",
       "    <tr>\n",
       "      <th>dairy eggs</th>\n",
       "      <td>10.709201</td>\n",
       "      <td>30.0</td>\n",
       "      <td>0.0</td>\n",
       "      <td>8.336372</td>\n",
       "      <td>15.0</td>\n",
       "      <td>1.0</td>\n",
       "    </tr>\n",
       "    <tr>\n",
       "      <th>deli</th>\n",
       "      <td>11.051389</td>\n",
       "      <td>30.0</td>\n",
       "      <td>0.0</td>\n",
       "      <td>7.783347</td>\n",
       "      <td>15.0</td>\n",
       "      <td>1.0</td>\n",
       "    </tr>\n",
       "    <tr>\n",
       "      <th>dry goods pasta</th>\n",
       "      <td>11.440362</td>\n",
       "      <td>30.0</td>\n",
       "      <td>0.0</td>\n",
       "      <td>7.349370</td>\n",
       "      <td>15.0</td>\n",
       "      <td>1.0</td>\n",
       "    </tr>\n",
       "    <tr>\n",
       "      <th>frozen</th>\n",
       "      <td>11.413880</td>\n",
       "      <td>30.0</td>\n",
       "      <td>0.0</td>\n",
       "      <td>7.733725</td>\n",
       "      <td>15.0</td>\n",
       "      <td>1.0</td>\n",
       "    </tr>\n",
       "    <tr>\n",
       "      <th>household</th>\n",
       "      <td>11.649305</td>\n",
       "      <td>30.0</td>\n",
       "      <td>0.0</td>\n",
       "      <td>7.379951</td>\n",
       "      <td>15.0</td>\n",
       "      <td>1.0</td>\n",
       "    </tr>\n",
       "    <tr>\n",
       "      <th>international</th>\n",
       "      <td>10.963731</td>\n",
       "      <td>30.0</td>\n",
       "      <td>0.0</td>\n",
       "      <td>7.678797</td>\n",
       "      <td>15.0</td>\n",
       "      <td>1.0</td>\n",
       "    </tr>\n",
       "    <tr>\n",
       "      <th>meat seafood</th>\n",
       "      <td>11.123647</td>\n",
       "      <td>30.0</td>\n",
       "      <td>0.0</td>\n",
       "      <td>16.300034</td>\n",
       "      <td>25.0</td>\n",
       "      <td>8.0</td>\n",
       "    </tr>\n",
       "    <tr>\n",
       "      <th>missing</th>\n",
       "      <td>9.869551</td>\n",
       "      <td>30.0</td>\n",
       "      <td>0.0</td>\n",
       "      <td>8.660655</td>\n",
       "      <td>15.0</td>\n",
       "      <td>1.0</td>\n",
       "    </tr>\n",
       "    <tr>\n",
       "      <th>other</th>\n",
       "      <td>10.624647</td>\n",
       "      <td>30.0</td>\n",
       "      <td>0.0</td>\n",
       "      <td>6.961995</td>\n",
       "      <td>15.0</td>\n",
       "      <td>1.1</td>\n",
       "    </tr>\n",
       "    <tr>\n",
       "      <th>pantry</th>\n",
       "      <td>10.835976</td>\n",
       "      <td>30.0</td>\n",
       "      <td>0.0</td>\n",
       "      <td>8.014482</td>\n",
       "      <td>20.0</td>\n",
       "      <td>1.0</td>\n",
       "    </tr>\n",
       "    <tr>\n",
       "      <th>personal care</th>\n",
       "      <td>11.256240</td>\n",
       "      <td>30.0</td>\n",
       "      <td>0.0</td>\n",
       "      <td>7.998744</td>\n",
       "      <td>15.0</td>\n",
       "      <td>1.0</td>\n",
       "    </tr>\n",
       "    <tr>\n",
       "      <th>pets</th>\n",
       "      <td>11.593531</td>\n",
       "      <td>30.0</td>\n",
       "      <td>0.0</td>\n",
       "      <td>7.887489</td>\n",
       "      <td>15.0</td>\n",
       "      <td>1.0</td>\n",
       "    </tr>\n",
       "    <tr>\n",
       "      <th>produce</th>\n",
       "      <td>10.574119</td>\n",
       "      <td>30.0</td>\n",
       "      <td>0.0</td>\n",
       "      <td>7.980348</td>\n",
       "      <td>15.0</td>\n",
       "      <td>1.0</td>\n",
       "    </tr>\n",
       "    <tr>\n",
       "      <th>snacks</th>\n",
       "      <td>10.671110</td>\n",
       "      <td>30.0</td>\n",
       "      <td>0.0</td>\n",
       "      <td>4.275555</td>\n",
       "      <td>7.0</td>\n",
       "      <td>1.6</td>\n",
       "    </tr>\n",
       "  </tbody>\n",
       "</table>\n",
       "</div>"
      ],
      "text/plain": [
       "                days_since_last_order                prices           \n",
       "                                 mean   max  min       mean   max  min\n",
       "department                                                            \n",
       "alcohol                     10.006658  30.0  0.0   8.150699  15.0  1.0\n",
       "babies                       9.780844  30.0  0.0   7.634399  15.0  1.0\n",
       "bakery                      10.808401  30.0  0.0   7.857482  15.0  1.0\n",
       "beverages                   10.768469  30.0  0.0   7.682556  15.0  1.0\n",
       "breakfast                   11.001313  30.0  0.0   8.031647  14.9  1.0\n",
       "bulk                         9.880211  30.0  0.0   8.346919  14.1  1.4\n",
       "canned goods                11.316872  30.0  0.0   7.546660  15.0  1.0\n",
       "dairy eggs                  10.709201  30.0  0.0   8.336372  15.0  1.0\n",
       "deli                        11.051389  30.0  0.0   7.783347  15.0  1.0\n",
       "dry goods pasta             11.440362  30.0  0.0   7.349370  15.0  1.0\n",
       "frozen                      11.413880  30.0  0.0   7.733725  15.0  1.0\n",
       "household                   11.649305  30.0  0.0   7.379951  15.0  1.0\n",
       "international               10.963731  30.0  0.0   7.678797  15.0  1.0\n",
       "meat seafood                11.123647  30.0  0.0  16.300034  25.0  8.0\n",
       "missing                      9.869551  30.0  0.0   8.660655  15.0  1.0\n",
       "other                       10.624647  30.0  0.0   6.961995  15.0  1.1\n",
       "pantry                      10.835976  30.0  0.0   8.014482  20.0  1.0\n",
       "personal care               11.256240  30.0  0.0   7.998744  15.0  1.0\n",
       "pets                        11.593531  30.0  0.0   7.887489  15.0  1.0\n",
       "produce                     10.574119  30.0  0.0   7.980348  15.0  1.0\n",
       "snacks                      10.671110  30.0  0.0   4.275555   7.0  1.6"
      ]
     },
     "execution_count": 72,
     "metadata": {},
     "output_type": "execute_result"
    }
   ],
   "source": [
    "dep_agg"
   ]
  },
  {
   "cell_type": "code",
   "execution_count": 73,
   "id": "3fb98647",
   "metadata": {},
   "outputs": [],
   "source": [
    "#creates a variable that contains the mean, max, and min values of the days since last order and prices columns grouped by profile\n",
    "profile_agg = all_merged.groupby('profile')[['days_since_last_order','prices']].agg(['mean','max','min'])"
   ]
  },
  {
   "cell_type": "code",
   "execution_count": 74,
   "id": "630031ab",
   "metadata": {
    "scrolled": true
   },
   "outputs": [
    {
     "data": {
      "text/html": [
       "<div>\n",
       "<style scoped>\n",
       "    .dataframe tbody tr th:only-of-type {\n",
       "        vertical-align: middle;\n",
       "    }\n",
       "\n",
       "    .dataframe tbody tr th {\n",
       "        vertical-align: top;\n",
       "    }\n",
       "\n",
       "    .dataframe thead tr th {\n",
       "        text-align: left;\n",
       "    }\n",
       "\n",
       "    .dataframe thead tr:last-of-type th {\n",
       "        text-align: right;\n",
       "    }\n",
       "</style>\n",
       "<table border=\"1\" class=\"dataframe\">\n",
       "  <thead>\n",
       "    <tr>\n",
       "      <th></th>\n",
       "      <th colspan=\"3\" halign=\"left\">days_since_last_order</th>\n",
       "      <th colspan=\"3\" halign=\"left\">prices</th>\n",
       "    </tr>\n",
       "    <tr>\n",
       "      <th></th>\n",
       "      <th>mean</th>\n",
       "      <th>max</th>\n",
       "      <th>min</th>\n",
       "      <th>mean</th>\n",
       "      <th>max</th>\n",
       "      <th>min</th>\n",
       "    </tr>\n",
       "    <tr>\n",
       "      <th>profile</th>\n",
       "      <th></th>\n",
       "      <th></th>\n",
       "      <th></th>\n",
       "      <th></th>\n",
       "      <th></th>\n",
       "      <th></th>\n",
       "    </tr>\n",
       "  </thead>\n",
       "  <tbody>\n",
       "    <tr>\n",
       "      <th>Married Dad</th>\n",
       "      <td>10.830106</td>\n",
       "      <td>30.0</td>\n",
       "      <td>0.0</td>\n",
       "      <td>7.794041</td>\n",
       "      <td>25.0</td>\n",
       "      <td>1.0</td>\n",
       "    </tr>\n",
       "    <tr>\n",
       "      <th>Married Mom</th>\n",
       "      <td>10.811514</td>\n",
       "      <td>30.0</td>\n",
       "      <td>0.0</td>\n",
       "      <td>7.786463</td>\n",
       "      <td>25.0</td>\n",
       "      <td>1.0</td>\n",
       "    </tr>\n",
       "    <tr>\n",
       "      <th>Single Dad</th>\n",
       "      <td>10.747496</td>\n",
       "      <td>30.0</td>\n",
       "      <td>0.0</td>\n",
       "      <td>7.808355</td>\n",
       "      <td>25.0</td>\n",
       "      <td>1.0</td>\n",
       "    </tr>\n",
       "    <tr>\n",
       "      <th>Single Female</th>\n",
       "      <td>10.753843</td>\n",
       "      <td>30.0</td>\n",
       "      <td>0.0</td>\n",
       "      <td>7.792227</td>\n",
       "      <td>25.0</td>\n",
       "      <td>1.0</td>\n",
       "    </tr>\n",
       "    <tr>\n",
       "      <th>Single Male</th>\n",
       "      <td>10.829862</td>\n",
       "      <td>30.0</td>\n",
       "      <td>0.0</td>\n",
       "      <td>7.786889</td>\n",
       "      <td>25.0</td>\n",
       "      <td>1.0</td>\n",
       "    </tr>\n",
       "    <tr>\n",
       "      <th>Single Mom</th>\n",
       "      <td>10.754656</td>\n",
       "      <td>30.0</td>\n",
       "      <td>0.0</td>\n",
       "      <td>7.792489</td>\n",
       "      <td>25.0</td>\n",
       "      <td>1.0</td>\n",
       "    </tr>\n",
       "  </tbody>\n",
       "</table>\n",
       "</div>"
      ],
      "text/plain": [
       "              days_since_last_order               prices           \n",
       "                               mean   max  min      mean   max  min\n",
       "profile                                                            \n",
       "Married Dad               10.830106  30.0  0.0  7.794041  25.0  1.0\n",
       "Married Mom               10.811514  30.0  0.0  7.786463  25.0  1.0\n",
       "Single Dad                10.747496  30.0  0.0  7.808355  25.0  1.0\n",
       "Single Female             10.753843  30.0  0.0  7.792227  25.0  1.0\n",
       "Single Male               10.829862  30.0  0.0  7.786889  25.0  1.0\n",
       "Single Mom                10.754656  30.0  0.0  7.792489  25.0  1.0"
      ]
     },
     "execution_count": 74,
     "metadata": {},
     "output_type": "execute_result"
    }
   ],
   "source": [
    "profile_agg"
   ]
  },
  {
   "cell_type": "code",
   "execution_count": 75,
   "id": "453d1555",
   "metadata": {},
   "outputs": [],
   "source": [
    "#creates a variable that contains the mean, max, and min values of the prices column grouped by price_label\n",
    "prices_agg = all_merged.groupby('price_label')['prices'].agg(['mean','max','min'])"
   ]
  },
  {
   "cell_type": "code",
   "execution_count": 76,
   "id": "38abfcdb",
   "metadata": {
    "scrolled": true
   },
   "outputs": [
    {
     "data": {
      "text/html": [
       "<div>\n",
       "<style scoped>\n",
       "    .dataframe tbody tr th:only-of-type {\n",
       "        vertical-align: middle;\n",
       "    }\n",
       "\n",
       "    .dataframe tbody tr th {\n",
       "        vertical-align: top;\n",
       "    }\n",
       "\n",
       "    .dataframe thead th {\n",
       "        text-align: right;\n",
       "    }\n",
       "</style>\n",
       "<table border=\"1\" class=\"dataframe\">\n",
       "  <thead>\n",
       "    <tr style=\"text-align: right;\">\n",
       "      <th></th>\n",
       "      <th>mean</th>\n",
       "      <th>max</th>\n",
       "      <th>min</th>\n",
       "    </tr>\n",
       "    <tr>\n",
       "      <th>price_label</th>\n",
       "      <th></th>\n",
       "      <th></th>\n",
       "      <th></th>\n",
       "    </tr>\n",
       "  </thead>\n",
       "  <tbody>\n",
       "    <tr>\n",
       "      <th>High Range Product</th>\n",
       "      <td>20.613753</td>\n",
       "      <td>25.0</td>\n",
       "      <td>15.1</td>\n",
       "    </tr>\n",
       "    <tr>\n",
       "      <th>Low Range Product</th>\n",
       "      <td>3.023833</td>\n",
       "      <td>5.0</td>\n",
       "      <td>1.0</td>\n",
       "    </tr>\n",
       "    <tr>\n",
       "      <th>Mid Range Product</th>\n",
       "      <td>9.756778</td>\n",
       "      <td>15.0</td>\n",
       "      <td>5.1</td>\n",
       "    </tr>\n",
       "  </tbody>\n",
       "</table>\n",
       "</div>"
      ],
      "text/plain": [
       "                         mean   max   min\n",
       "price_label                              \n",
       "High Range Product  20.613753  25.0  15.1\n",
       "Low Range Product    3.023833   5.0   1.0\n",
       "Mid Range Product    9.756778  15.0   5.1"
      ]
     },
     "execution_count": 76,
     "metadata": {},
     "output_type": "execute_result"
    }
   ],
   "source": [
    "prices_agg"
   ]
  },
  {
   "cell_type": "code",
   "execution_count": 77,
   "id": "19e3b5f2",
   "metadata": {},
   "outputs": [],
   "source": [
    "prices_agg.to_clipboard()"
   ]
  },
  {
   "cell_type": "markdown",
   "id": "4959da35",
   "metadata": {},
   "source": [
    "## 8) Comparing Customer Profiles with Regions and Departments and other Relevant Columns"
   ]
  },
  {
   "cell_type": "code",
   "execution_count": 78,
   "id": "3b81be25",
   "metadata": {},
   "outputs": [],
   "source": [
    "#creates a df that contains the department and profile columns\n",
    "dep_profile = all_merged.groupby(['department', 'profile']).size().unstack()"
   ]
  },
  {
   "cell_type": "code",
   "execution_count": 79,
   "id": "178ab173",
   "metadata": {},
   "outputs": [
    {
     "data": {
      "text/html": [
       "<div>\n",
       "<style scoped>\n",
       "    .dataframe tbody tr th:only-of-type {\n",
       "        vertical-align: middle;\n",
       "    }\n",
       "\n",
       "    .dataframe tbody tr th {\n",
       "        vertical-align: top;\n",
       "    }\n",
       "\n",
       "    .dataframe thead th {\n",
       "        text-align: right;\n",
       "    }\n",
       "</style>\n",
       "<table border=\"1\" class=\"dataframe\">\n",
       "  <thead>\n",
       "    <tr style=\"text-align: right;\">\n",
       "      <th>profile</th>\n",
       "      <th>Married Dad</th>\n",
       "      <th>Married Mom</th>\n",
       "      <th>Single Dad</th>\n",
       "      <th>Single Female</th>\n",
       "      <th>Single Male</th>\n",
       "      <th>Single Mom</th>\n",
       "    </tr>\n",
       "    <tr>\n",
       "      <th>department</th>\n",
       "      <th></th>\n",
       "      <th></th>\n",
       "      <th></th>\n",
       "      <th></th>\n",
       "      <th></th>\n",
       "      <th></th>\n",
       "    </tr>\n",
       "  </thead>\n",
       "  <tbody>\n",
       "    <tr>\n",
       "      <th>alcohol</th>\n",
       "      <td>46962</td>\n",
       "      <td>52459</td>\n",
       "      <td>4595</td>\n",
       "      <td>18601</td>\n",
       "      <td>18226</td>\n",
       "      <td>3784</td>\n",
       "    </tr>\n",
       "    <tr>\n",
       "      <th>babies</th>\n",
       "      <td>146764</td>\n",
       "      <td>140919</td>\n",
       "      <td>10128</td>\n",
       "      <td>50469</td>\n",
       "      <td>52859</td>\n",
       "      <td>9253</td>\n",
       "    </tr>\n",
       "    <tr>\n",
       "      <th>bakery</th>\n",
       "      <td>392293</td>\n",
       "      <td>393456</td>\n",
       "      <td>27333</td>\n",
       "      <td>139336</td>\n",
       "      <td>142059</td>\n",
       "      <td>26351</td>\n",
       "    </tr>\n",
       "    <tr>\n",
       "      <th>beverages</th>\n",
       "      <td>907782</td>\n",
       "      <td>899671</td>\n",
       "      <td>60815</td>\n",
       "      <td>322421</td>\n",
       "      <td>322920</td>\n",
       "      <td>58292</td>\n",
       "    </tr>\n",
       "    <tr>\n",
       "      <th>breakfast</th>\n",
       "      <td>235905</td>\n",
       "      <td>235315</td>\n",
       "      <td>16851</td>\n",
       "      <td>82811</td>\n",
       "      <td>83621</td>\n",
       "      <td>16347</td>\n",
       "    </tr>\n",
       "    <tr>\n",
       "      <th>bulk</th>\n",
       "      <td>11934</td>\n",
       "      <td>11884</td>\n",
       "      <td>856</td>\n",
       "      <td>4081</td>\n",
       "      <td>3919</td>\n",
       "      <td>777</td>\n",
       "    </tr>\n",
       "    <tr>\n",
       "      <th>canned goods</th>\n",
       "      <td>361208</td>\n",
       "      <td>351369</td>\n",
       "      <td>25510</td>\n",
       "      <td>124165</td>\n",
       "      <td>126855</td>\n",
       "      <td>22967</td>\n",
       "    </tr>\n",
       "    <tr>\n",
       "      <th>dairy eggs</th>\n",
       "      <td>1828819</td>\n",
       "      <td>1803780</td>\n",
       "      <td>127224</td>\n",
       "      <td>647898</td>\n",
       "      <td>646478</td>\n",
       "      <td>122983</td>\n",
       "    </tr>\n",
       "    <tr>\n",
       "      <th>deli</th>\n",
       "      <td>353049</td>\n",
       "      <td>349284</td>\n",
       "      <td>24343</td>\n",
       "      <td>126183</td>\n",
       "      <td>127199</td>\n",
       "      <td>23776</td>\n",
       "    </tr>\n",
       "    <tr>\n",
       "      <th>dry goods pasta</th>\n",
       "      <td>291490</td>\n",
       "      <td>286808</td>\n",
       "      <td>20014</td>\n",
       "      <td>101763</td>\n",
       "      <td>102533</td>\n",
       "      <td>19528</td>\n",
       "    </tr>\n",
       "    <tr>\n",
       "      <th>frozen</th>\n",
       "      <td>750078</td>\n",
       "      <td>739312</td>\n",
       "      <td>53153</td>\n",
       "      <td>263327</td>\n",
       "      <td>266021</td>\n",
       "      <td>49840</td>\n",
       "    </tr>\n",
       "    <tr>\n",
       "      <th>household</th>\n",
       "      <td>248151</td>\n",
       "      <td>246999</td>\n",
       "      <td>16707</td>\n",
       "      <td>85291</td>\n",
       "      <td>86067</td>\n",
       "      <td>16642</td>\n",
       "    </tr>\n",
       "    <tr>\n",
       "      <th>international</th>\n",
       "      <td>90398</td>\n",
       "      <td>88738</td>\n",
       "      <td>6491</td>\n",
       "      <td>31987</td>\n",
       "      <td>32474</td>\n",
       "      <td>5903</td>\n",
       "    </tr>\n",
       "    <tr>\n",
       "      <th>meat seafood</th>\n",
       "      <td>240742</td>\n",
       "      <td>235817</td>\n",
       "      <td>16585</td>\n",
       "      <td>81908</td>\n",
       "      <td>83970</td>\n",
       "      <td>15759</td>\n",
       "    </tr>\n",
       "    <tr>\n",
       "      <th>missing</th>\n",
       "      <td>23513</td>\n",
       "      <td>22003</td>\n",
       "      <td>1702</td>\n",
       "      <td>8266</td>\n",
       "      <td>7669</td>\n",
       "      <td>1615</td>\n",
       "    </tr>\n",
       "    <tr>\n",
       "      <th>other</th>\n",
       "      <td>12073</td>\n",
       "      <td>11809</td>\n",
       "      <td>947</td>\n",
       "      <td>4478</td>\n",
       "      <td>4236</td>\n",
       "      <td>868</td>\n",
       "    </tr>\n",
       "    <tr>\n",
       "      <th>pantry</th>\n",
       "      <td>630718</td>\n",
       "      <td>622238</td>\n",
       "      <td>43457</td>\n",
       "      <td>219483</td>\n",
       "      <td>224421</td>\n",
       "      <td>42388</td>\n",
       "    </tr>\n",
       "    <tr>\n",
       "      <th>personal care</th>\n",
       "      <td>149556</td>\n",
       "      <td>148344</td>\n",
       "      <td>10130</td>\n",
       "      <td>53509</td>\n",
       "      <td>52696</td>\n",
       "      <td>10071</td>\n",
       "    </tr>\n",
       "    <tr>\n",
       "      <th>pets</th>\n",
       "      <td>32751</td>\n",
       "      <td>31369</td>\n",
       "      <td>2813</td>\n",
       "      <td>11473</td>\n",
       "      <td>12129</td>\n",
       "      <td>2525</td>\n",
       "    </tr>\n",
       "    <tr>\n",
       "      <th>produce</th>\n",
       "      <td>3217420</td>\n",
       "      <td>3155873</td>\n",
       "      <td>220471</td>\n",
       "      <td>1135334</td>\n",
       "      <td>1140107</td>\n",
       "      <td>210068</td>\n",
       "    </tr>\n",
       "    <tr>\n",
       "      <th>snacks</th>\n",
       "      <td>976140</td>\n",
       "      <td>968518</td>\n",
       "      <td>67471</td>\n",
       "      <td>345499</td>\n",
       "      <td>344939</td>\n",
       "      <td>63839</td>\n",
       "    </tr>\n",
       "  </tbody>\n",
       "</table>\n",
       "</div>"
      ],
      "text/plain": [
       "profile          Married Dad  Married Mom  Single Dad  Single Female  \\\n",
       "department                                                             \n",
       "alcohol                46962        52459        4595          18601   \n",
       "babies                146764       140919       10128          50469   \n",
       "bakery                392293       393456       27333         139336   \n",
       "beverages             907782       899671       60815         322421   \n",
       "breakfast             235905       235315       16851          82811   \n",
       "bulk                   11934        11884         856           4081   \n",
       "canned goods          361208       351369       25510         124165   \n",
       "dairy eggs           1828819      1803780      127224         647898   \n",
       "deli                  353049       349284       24343         126183   \n",
       "dry goods pasta       291490       286808       20014         101763   \n",
       "frozen                750078       739312       53153         263327   \n",
       "household             248151       246999       16707          85291   \n",
       "international          90398        88738        6491          31987   \n",
       "meat seafood          240742       235817       16585          81908   \n",
       "missing                23513        22003        1702           8266   \n",
       "other                  12073        11809         947           4478   \n",
       "pantry                630718       622238       43457         219483   \n",
       "personal care         149556       148344       10130          53509   \n",
       "pets                   32751        31369        2813          11473   \n",
       "produce              3217420      3155873      220471        1135334   \n",
       "snacks                976140       968518       67471         345499   \n",
       "\n",
       "profile          Single Male  Single Mom  \n",
       "department                                \n",
       "alcohol                18226        3784  \n",
       "babies                 52859        9253  \n",
       "bakery                142059       26351  \n",
       "beverages             322920       58292  \n",
       "breakfast              83621       16347  \n",
       "bulk                    3919         777  \n",
       "canned goods          126855       22967  \n",
       "dairy eggs            646478      122983  \n",
       "deli                  127199       23776  \n",
       "dry goods pasta       102533       19528  \n",
       "frozen                266021       49840  \n",
       "household              86067       16642  \n",
       "international          32474        5903  \n",
       "meat seafood           83970       15759  \n",
       "missing                 7669        1615  \n",
       "other                   4236         868  \n",
       "pantry                224421       42388  \n",
       "personal care          52696       10071  \n",
       "pets                   12129        2525  \n",
       "produce              1140107      210068  \n",
       "snacks                344939       63839  "
      ]
     },
     "execution_count": 79,
     "metadata": {},
     "output_type": "execute_result"
    }
   ],
   "source": [
    "dep_profile"
   ]
  },
  {
   "cell_type": "code",
   "execution_count": 80,
   "id": "f5bf3f78",
   "metadata": {},
   "outputs": [],
   "source": [
    "#creates a df with the region and income_class columns\n",
    "region_income = all_merged.groupby(['region', 'income_class']).size().unstack()"
   ]
  },
  {
   "cell_type": "code",
   "execution_count": 81,
   "id": "c2bb4a46",
   "metadata": {},
   "outputs": [
    {
     "data": {
      "text/html": [
       "<div>\n",
       "<style scoped>\n",
       "    .dataframe tbody tr th:only-of-type {\n",
       "        vertical-align: middle;\n",
       "    }\n",
       "\n",
       "    .dataframe tbody tr th {\n",
       "        vertical-align: top;\n",
       "    }\n",
       "\n",
       "    .dataframe thead th {\n",
       "        text-align: right;\n",
       "    }\n",
       "</style>\n",
       "<table border=\"1\" class=\"dataframe\">\n",
       "  <thead>\n",
       "    <tr style=\"text-align: right;\">\n",
       "      <th>income_class</th>\n",
       "      <th>Lower-Income</th>\n",
       "      <th>Middle-Income</th>\n",
       "      <th>Upper-Income</th>\n",
       "    </tr>\n",
       "    <tr>\n",
       "      <th>region</th>\n",
       "      <th></th>\n",
       "      <th></th>\n",
       "      <th></th>\n",
       "    </tr>\n",
       "  </thead>\n",
       "  <tbody>\n",
       "    <tr>\n",
       "      <th>Midwest</th>\n",
       "      <td>732477</td>\n",
       "      <td>5423487</td>\n",
       "      <td>1105549</td>\n",
       "    </tr>\n",
       "    <tr>\n",
       "      <th>Northeast</th>\n",
       "      <td>548340</td>\n",
       "      <td>4091642</td>\n",
       "      <td>824703</td>\n",
       "    </tr>\n",
       "    <tr>\n",
       "      <th>South</th>\n",
       "      <td>1068988</td>\n",
       "      <td>7687756</td>\n",
       "      <td>1554395</td>\n",
       "    </tr>\n",
       "    <tr>\n",
       "      <th>West</th>\n",
       "      <td>796319</td>\n",
       "      <td>5925465</td>\n",
       "      <td>1205443</td>\n",
       "    </tr>\n",
       "  </tbody>\n",
       "</table>\n",
       "</div>"
      ],
      "text/plain": [
       "income_class  Lower-Income  Middle-Income  Upper-Income\n",
       "region                                                 \n",
       "Midwest             732477        5423487       1105549\n",
       "Northeast           548340        4091642        824703\n",
       "South              1068988        7687756       1554395\n",
       "West                796319        5925465       1205443"
      ]
     },
     "execution_count": 81,
     "metadata": {},
     "output_type": "execute_result"
    }
   ],
   "source": [
    "region_income"
   ]
  },
  {
   "cell_type": "code",
   "execution_count": 82,
   "id": "cc9c6cb1",
   "metadata": {},
   "outputs": [],
   "source": [
    "#creates a df with the age_group and region columns\n",
    "age_region = all_merged.groupby(['age_group', 'region']).size().unstack()"
   ]
  },
  {
   "cell_type": "code",
   "execution_count": 83,
   "id": "e690f2e1",
   "metadata": {
    "scrolled": true
   },
   "outputs": [
    {
     "data": {
      "text/html": [
       "<div>\n",
       "<style scoped>\n",
       "    .dataframe tbody tr th:only-of-type {\n",
       "        vertical-align: middle;\n",
       "    }\n",
       "\n",
       "    .dataframe tbody tr th {\n",
       "        vertical-align: top;\n",
       "    }\n",
       "\n",
       "    .dataframe thead th {\n",
       "        text-align: right;\n",
       "    }\n",
       "</style>\n",
       "<table border=\"1\" class=\"dataframe\">\n",
       "  <thead>\n",
       "    <tr style=\"text-align: right;\">\n",
       "      <th>region</th>\n",
       "      <th>Midwest</th>\n",
       "      <th>Northeast</th>\n",
       "      <th>South</th>\n",
       "      <th>West</th>\n",
       "    </tr>\n",
       "    <tr>\n",
       "      <th>age_group</th>\n",
       "      <th></th>\n",
       "      <th></th>\n",
       "      <th></th>\n",
       "      <th></th>\n",
       "    </tr>\n",
       "  </thead>\n",
       "  <tbody>\n",
       "    <tr>\n",
       "      <th>Adult</th>\n",
       "      <td>4006588</td>\n",
       "      <td>2975763</td>\n",
       "      <td>5634921</td>\n",
       "      <td>4370167</td>\n",
       "    </tr>\n",
       "    <tr>\n",
       "      <th>Older Adult</th>\n",
       "      <td>2356770</td>\n",
       "      <td>1809013</td>\n",
       "      <td>3361229</td>\n",
       "      <td>2585595</td>\n",
       "    </tr>\n",
       "    <tr>\n",
       "      <th>Young Adult</th>\n",
       "      <td>898155</td>\n",
       "      <td>679909</td>\n",
       "      <td>1314989</td>\n",
       "      <td>971465</td>\n",
       "    </tr>\n",
       "  </tbody>\n",
       "</table>\n",
       "</div>"
      ],
      "text/plain": [
       "region       Midwest  Northeast    South     West\n",
       "age_group                                        \n",
       "Adult        4006588    2975763  5634921  4370167\n",
       "Older Adult  2356770    1809013  3361229  2585595\n",
       "Young Adult   898155     679909  1314989   971465"
      ]
     },
     "execution_count": 83,
     "metadata": {},
     "output_type": "execute_result"
    }
   ],
   "source": [
    "age_region"
   ]
  },
  {
   "cell_type": "code",
   "execution_count": 84,
   "id": "f5b2b925",
   "metadata": {},
   "outputs": [],
   "source": [
    "#creates a df with the region and profile columns\n",
    "profile_region = all_merged.groupby(['region', 'profile']).size().unstack()"
   ]
  },
  {
   "cell_type": "code",
   "execution_count": 85,
   "id": "488f9860",
   "metadata": {
    "scrolled": true
   },
   "outputs": [
    {
     "data": {
      "text/html": [
       "<div>\n",
       "<style scoped>\n",
       "    .dataframe tbody tr th:only-of-type {\n",
       "        vertical-align: middle;\n",
       "    }\n",
       "\n",
       "    .dataframe tbody tr th {\n",
       "        vertical-align: top;\n",
       "    }\n",
       "\n",
       "    .dataframe thead th {\n",
       "        text-align: right;\n",
       "    }\n",
       "</style>\n",
       "<table border=\"1\" class=\"dataframe\">\n",
       "  <thead>\n",
       "    <tr style=\"text-align: right;\">\n",
       "      <th>profile</th>\n",
       "      <th>Married Dad</th>\n",
       "      <th>Married Mom</th>\n",
       "      <th>Single Dad</th>\n",
       "      <th>Single Female</th>\n",
       "      <th>Single Male</th>\n",
       "      <th>Single Mom</th>\n",
       "    </tr>\n",
       "    <tr>\n",
       "      <th>region</th>\n",
       "      <th></th>\n",
       "      <th></th>\n",
       "      <th></th>\n",
       "      <th></th>\n",
       "      <th></th>\n",
       "      <th></th>\n",
       "    </tr>\n",
       "  </thead>\n",
       "  <tbody>\n",
       "    <tr>\n",
       "      <th>Midwest</th>\n",
       "      <td>2527235</td>\n",
       "      <td>2560027</td>\n",
       "      <td>179522</td>\n",
       "      <td>905542</td>\n",
       "      <td>917274</td>\n",
       "      <td>171913</td>\n",
       "    </tr>\n",
       "    <tr>\n",
       "      <th>Northeast</th>\n",
       "      <td>1996450</td>\n",
       "      <td>1857323</td>\n",
       "      <td>137743</td>\n",
       "      <td>663656</td>\n",
       "      <td>690826</td>\n",
       "      <td>118687</td>\n",
       "    </tr>\n",
       "    <tr>\n",
       "      <th>South</th>\n",
       "      <td>3655100</td>\n",
       "      <td>3568649</td>\n",
       "      <td>251334</td>\n",
       "      <td>1314256</td>\n",
       "      <td>1267677</td>\n",
       "      <td>254123</td>\n",
       "    </tr>\n",
       "    <tr>\n",
       "      <th>West</th>\n",
       "      <td>2768961</td>\n",
       "      <td>2809966</td>\n",
       "      <td>188997</td>\n",
       "      <td>974829</td>\n",
       "      <td>1005621</td>\n",
       "      <td>178853</td>\n",
       "    </tr>\n",
       "  </tbody>\n",
       "</table>\n",
       "</div>"
      ],
      "text/plain": [
       "profile    Married Dad  Married Mom  Single Dad  Single Female  Single Male  \\\n",
       "region                                                                        \n",
       "Midwest        2527235      2560027      179522         905542       917274   \n",
       "Northeast      1996450      1857323      137743         663656       690826   \n",
       "South          3655100      3568649      251334        1314256      1267677   \n",
       "West           2768961      2809966      188997         974829      1005621   \n",
       "\n",
       "profile    Single Mom  \n",
       "region                 \n",
       "Midwest        171913  \n",
       "Northeast      118687  \n",
       "South          254123  \n",
       "West           178853  "
      ]
     },
     "execution_count": 85,
     "metadata": {},
     "output_type": "execute_result"
    }
   ],
   "source": [
    "profile_region"
   ]
  },
  {
   "cell_type": "code",
   "execution_count": 88,
   "id": "cfb5bb79",
   "metadata": {},
   "outputs": [],
   "source": [
    "#creates a df with the region age_group and income_class columns \n",
    "income_region_age = all_merged.groupby(['region', 'age_group', 'income_class']).size().unstack()"
   ]
  },
  {
   "cell_type": "code",
   "execution_count": 87,
   "id": "f870f3d9",
   "metadata": {},
   "outputs": [
    {
     "data": {
      "text/html": [
       "<div>\n",
       "<style scoped>\n",
       "    .dataframe tbody tr th:only-of-type {\n",
       "        vertical-align: middle;\n",
       "    }\n",
       "\n",
       "    .dataframe tbody tr th {\n",
       "        vertical-align: top;\n",
       "    }\n",
       "\n",
       "    .dataframe thead th {\n",
       "        text-align: right;\n",
       "    }\n",
       "</style>\n",
       "<table border=\"1\" class=\"dataframe\">\n",
       "  <thead>\n",
       "    <tr style=\"text-align: right;\">\n",
       "      <th></th>\n",
       "      <th>income_class</th>\n",
       "      <th>Lower-Income</th>\n",
       "      <th>Middle-Income</th>\n",
       "      <th>Upper-Income</th>\n",
       "    </tr>\n",
       "    <tr>\n",
       "      <th>region</th>\n",
       "      <th>age_group</th>\n",
       "      <th></th>\n",
       "      <th></th>\n",
       "      <th></th>\n",
       "    </tr>\n",
       "  </thead>\n",
       "  <tbody>\n",
       "    <tr>\n",
       "      <th rowspan=\"3\" valign=\"top\">Midwest</th>\n",
       "      <th>Adult</th>\n",
       "      <td>425822</td>\n",
       "      <td>3029695</td>\n",
       "      <td>551071</td>\n",
       "    </tr>\n",
       "    <tr>\n",
       "      <th>Older Adult</th>\n",
       "      <td>175269</td>\n",
       "      <td>1636925</td>\n",
       "      <td>544576</td>\n",
       "    </tr>\n",
       "    <tr>\n",
       "      <th>Young Adult</th>\n",
       "      <td>131386</td>\n",
       "      <td>756867</td>\n",
       "      <td>9902</td>\n",
       "    </tr>\n",
       "    <tr>\n",
       "      <th rowspan=\"3\" valign=\"top\">Northeast</th>\n",
       "      <th>Adult</th>\n",
       "      <td>313837</td>\n",
       "      <td>2247884</td>\n",
       "      <td>414042</td>\n",
       "    </tr>\n",
       "    <tr>\n",
       "      <th>Older Adult</th>\n",
       "      <td>137379</td>\n",
       "      <td>1264624</td>\n",
       "      <td>407010</td>\n",
       "    </tr>\n",
       "    <tr>\n",
       "      <th>Young Adult</th>\n",
       "      <td>97124</td>\n",
       "      <td>579134</td>\n",
       "      <td>3651</td>\n",
       "    </tr>\n",
       "    <tr>\n",
       "      <th rowspan=\"3\" valign=\"top\">South</th>\n",
       "      <th>Adult</th>\n",
       "      <td>620891</td>\n",
       "      <td>4259974</td>\n",
       "      <td>754056</td>\n",
       "    </tr>\n",
       "    <tr>\n",
       "      <th>Older Adult</th>\n",
       "      <td>262463</td>\n",
       "      <td>2312837</td>\n",
       "      <td>785929</td>\n",
       "    </tr>\n",
       "    <tr>\n",
       "      <th>Young Adult</th>\n",
       "      <td>185634</td>\n",
       "      <td>1114945</td>\n",
       "      <td>14410</td>\n",
       "    </tr>\n",
       "    <tr>\n",
       "      <th rowspan=\"3\" valign=\"top\">West</th>\n",
       "      <th>Adult</th>\n",
       "      <td>454097</td>\n",
       "      <td>3307895</td>\n",
       "      <td>608175</td>\n",
       "    </tr>\n",
       "    <tr>\n",
       "      <th>Older Adult</th>\n",
       "      <td>193503</td>\n",
       "      <td>1804962</td>\n",
       "      <td>587130</td>\n",
       "    </tr>\n",
       "    <tr>\n",
       "      <th>Young Adult</th>\n",
       "      <td>148719</td>\n",
       "      <td>812608</td>\n",
       "      <td>10138</td>\n",
       "    </tr>\n",
       "  </tbody>\n",
       "</table>\n",
       "</div>"
      ],
      "text/plain": [
       "income_class           Lower-Income  Middle-Income  Upper-Income\n",
       "region    age_group                                             \n",
       "Midwest   Adult              425822        3029695        551071\n",
       "          Older Adult        175269        1636925        544576\n",
       "          Young Adult        131386         756867          9902\n",
       "Northeast Adult              313837        2247884        414042\n",
       "          Older Adult        137379        1264624        407010\n",
       "          Young Adult         97124         579134          3651\n",
       "South     Adult              620891        4259974        754056\n",
       "          Older Adult        262463        2312837        785929\n",
       "          Young Adult        185634        1114945         14410\n",
       "West      Adult              454097        3307895        608175\n",
       "          Older Adult        193503        1804962        587130\n",
       "          Young Adult        148719         812608         10138"
      ]
     },
     "execution_count": 87,
     "metadata": {},
     "output_type": "execute_result"
    }
   ],
   "source": [
    "income_region_age"
   ]
  },
  {
   "cell_type": "code",
   "execution_count": 76,
   "id": "f16a47ea",
   "metadata": {},
   "outputs": [],
   "source": [
    "#creates a df grouped by profile and age_group \n",
    "age_profile = all_merged.groupby(['profile', 'age_group']).size().unstack() #getting age and profile distribution"
   ]
  },
  {
   "cell_type": "code",
   "execution_count": 92,
   "id": "8727455c",
   "metadata": {},
   "outputs": [
    {
     "data": {
      "text/html": [
       "<div>\n",
       "<style scoped>\n",
       "    .dataframe tbody tr th:only-of-type {\n",
       "        vertical-align: middle;\n",
       "    }\n",
       "\n",
       "    .dataframe tbody tr th {\n",
       "        vertical-align: top;\n",
       "    }\n",
       "\n",
       "    .dataframe thead th {\n",
       "        text-align: right;\n",
       "    }\n",
       "</style>\n",
       "<table border=\"1\" class=\"dataframe\">\n",
       "  <thead>\n",
       "    <tr style=\"text-align: right;\">\n",
       "      <th>age_group</th>\n",
       "      <th>Adult</th>\n",
       "      <th>Older Adult</th>\n",
       "      <th>Young Adult</th>\n",
       "    </tr>\n",
       "    <tr>\n",
       "      <th>profile</th>\n",
       "      <th></th>\n",
       "      <th></th>\n",
       "      <th></th>\n",
       "    </tr>\n",
       "  </thead>\n",
       "  <tbody>\n",
       "    <tr>\n",
       "      <th>Married Dad</th>\n",
       "      <td>6399197.0</td>\n",
       "      <td>3816635.0</td>\n",
       "      <td>731914.0</td>\n",
       "    </tr>\n",
       "    <tr>\n",
       "      <th>Married Mom</th>\n",
       "      <td>6334889.0</td>\n",
       "      <td>3762871.0</td>\n",
       "      <td>698205.0</td>\n",
       "    </tr>\n",
       "    <tr>\n",
       "      <th>Single Dad</th>\n",
       "      <td>NaN</td>\n",
       "      <td>NaN</td>\n",
       "      <td>757596.0</td>\n",
       "    </tr>\n",
       "    <tr>\n",
       "      <th>Single Female</th>\n",
       "      <td>2113903.0</td>\n",
       "      <td>1284452.0</td>\n",
       "      <td>459928.0</td>\n",
       "    </tr>\n",
       "    <tr>\n",
       "      <th>Single Male</th>\n",
       "      <td>2139450.0</td>\n",
       "      <td>1248649.0</td>\n",
       "      <td>493299.0</td>\n",
       "    </tr>\n",
       "    <tr>\n",
       "      <th>Single Mom</th>\n",
       "      <td>NaN</td>\n",
       "      <td>NaN</td>\n",
       "      <td>723576.0</td>\n",
       "    </tr>\n",
       "  </tbody>\n",
       "</table>\n",
       "</div>"
      ],
      "text/plain": [
       "age_group          Adult  Older Adult  Young Adult\n",
       "profile                                           \n",
       "Married Dad    6399197.0    3816635.0     731914.0\n",
       "Married Mom    6334889.0    3762871.0     698205.0\n",
       "Single Dad           NaN          NaN     757596.0\n",
       "Single Female  2113903.0    1284452.0     459928.0\n",
       "Single Male    2139450.0    1248649.0     493299.0\n",
       "Single Mom           NaN          NaN     723576.0"
      ]
     },
     "execution_count": 92,
     "metadata": {},
     "output_type": "execute_result"
    }
   ],
   "source": [
    "age_profile"
   ]
  },
  {
   "cell_type": "code",
   "execution_count": 424,
   "id": "0129c3cf",
   "metadata": {},
   "outputs": [],
   "source": [
    "age_profile.to_clipboard()"
   ]
  },
  {
   "cell_type": "code",
   "execution_count": 89,
   "id": "af088aab",
   "metadata": {},
   "outputs": [],
   "source": [
    "#creates a df grouped by age_group and income class\n",
    "age_income = all_merged.groupby(['age_group', 'income_class']).size().unstack() #getting age and income distribution"
   ]
  },
  {
   "cell_type": "code",
   "execution_count": 93,
   "id": "84656d84",
   "metadata": {
    "scrolled": true
   },
   "outputs": [
    {
     "data": {
      "text/html": [
       "<div>\n",
       "<style scoped>\n",
       "    .dataframe tbody tr th:only-of-type {\n",
       "        vertical-align: middle;\n",
       "    }\n",
       "\n",
       "    .dataframe tbody tr th {\n",
       "        vertical-align: top;\n",
       "    }\n",
       "\n",
       "    .dataframe thead th {\n",
       "        text-align: right;\n",
       "    }\n",
       "</style>\n",
       "<table border=\"1\" class=\"dataframe\">\n",
       "  <thead>\n",
       "    <tr style=\"text-align: right;\">\n",
       "      <th>income_class</th>\n",
       "      <th>Lower-Income</th>\n",
       "      <th>Middle-Income</th>\n",
       "      <th>Upper-Income</th>\n",
       "    </tr>\n",
       "    <tr>\n",
       "      <th>age_group</th>\n",
       "      <th></th>\n",
       "      <th></th>\n",
       "      <th></th>\n",
       "    </tr>\n",
       "  </thead>\n",
       "  <tbody>\n",
       "    <tr>\n",
       "      <th>Adult</th>\n",
       "      <td>1814647</td>\n",
       "      <td>12845448</td>\n",
       "      <td>2327344</td>\n",
       "    </tr>\n",
       "    <tr>\n",
       "      <th>Older Adult</th>\n",
       "      <td>768614</td>\n",
       "      <td>7019348</td>\n",
       "      <td>2324645</td>\n",
       "    </tr>\n",
       "    <tr>\n",
       "      <th>Young Adult</th>\n",
       "      <td>562863</td>\n",
       "      <td>3263554</td>\n",
       "      <td>38101</td>\n",
       "    </tr>\n",
       "  </tbody>\n",
       "</table>\n",
       "</div>"
      ],
      "text/plain": [
       "income_class  Lower-Income  Middle-Income  Upper-Income\n",
       "age_group                                              \n",
       "Adult              1814647       12845448       2327344\n",
       "Older Adult         768614        7019348       2324645\n",
       "Young Adult         562863        3263554         38101"
      ]
     },
     "execution_count": 93,
     "metadata": {},
     "output_type": "execute_result"
    }
   ],
   "source": [
    "age_income"
   ]
  },
  {
   "cell_type": "code",
   "execution_count": 97,
   "id": "a9833608",
   "metadata": {},
   "outputs": [],
   "source": [
    "age_income.to_clipboard()"
   ]
  },
  {
   "cell_type": "code",
   "execution_count": 94,
   "id": "51802d3a",
   "metadata": {},
   "outputs": [],
   "source": [
    "#gets the distribution for age groups\n",
    "age_dist = all_merged['age_group'].value_counts()"
   ]
  },
  {
   "cell_type": "code",
   "execution_count": 95,
   "id": "b89bd4eb",
   "metadata": {},
   "outputs": [
    {
     "data": {
      "text/plain": [
       "age_group\n",
       "Adult          16987439\n",
       "Older Adult    10112607\n",
       "Young Adult     3864518\n",
       "Name: count, dtype: int64"
      ]
     },
     "execution_count": 95,
     "metadata": {},
     "output_type": "execute_result"
    }
   ],
   "source": [
    "age_dist"
   ]
  },
  {
   "cell_type": "code",
   "execution_count": 98,
   "id": "57874912",
   "metadata": {},
   "outputs": [],
   "source": [
    "age_dist.to_clipboard()"
   ]
  },
  {
   "cell_type": "code",
   "execution_count": 623,
   "id": "ffee079f",
   "metadata": {},
   "outputs": [],
   "source": [
    "age_region = all_merged.groupby(['age_group', 'region']).size().unstack() #getting age and region distribution"
   ]
  },
  {
   "cell_type": "code",
   "execution_count": 618,
   "id": "928e87f9",
   "metadata": {
    "scrolled": true
   },
   "outputs": [
    {
     "data": {
      "text/html": [
       "<div>\n",
       "<style scoped>\n",
       "    .dataframe tbody tr th:only-of-type {\n",
       "        vertical-align: middle;\n",
       "    }\n",
       "\n",
       "    .dataframe tbody tr th {\n",
       "        vertical-align: top;\n",
       "    }\n",
       "\n",
       "    .dataframe thead th {\n",
       "        text-align: right;\n",
       "    }\n",
       "</style>\n",
       "<table border=\"1\" class=\"dataframe\">\n",
       "  <thead>\n",
       "    <tr style=\"text-align: right;\">\n",
       "      <th>region</th>\n",
       "      <th>Midwest</th>\n",
       "      <th>Northeast</th>\n",
       "      <th>South</th>\n",
       "      <th>West</th>\n",
       "    </tr>\n",
       "    <tr>\n",
       "      <th>age_group</th>\n",
       "      <th></th>\n",
       "      <th></th>\n",
       "      <th></th>\n",
       "      <th></th>\n",
       "    </tr>\n",
       "  </thead>\n",
       "  <tbody>\n",
       "    <tr>\n",
       "      <th>Adult</th>\n",
       "      <td>4006588</td>\n",
       "      <td>2975763</td>\n",
       "      <td>5634921</td>\n",
       "      <td>4370167</td>\n",
       "    </tr>\n",
       "    <tr>\n",
       "      <th>Older Adult</th>\n",
       "      <td>2356770</td>\n",
       "      <td>1809013</td>\n",
       "      <td>3361229</td>\n",
       "      <td>2585595</td>\n",
       "    </tr>\n",
       "    <tr>\n",
       "      <th>Young Adult</th>\n",
       "      <td>898155</td>\n",
       "      <td>679909</td>\n",
       "      <td>1314989</td>\n",
       "      <td>971465</td>\n",
       "    </tr>\n",
       "  </tbody>\n",
       "</table>\n",
       "</div>"
      ],
      "text/plain": [
       "region       Midwest  Northeast    South     West\n",
       "age_group                                        \n",
       "Adult        4006588    2975763  5634921  4370167\n",
       "Older Adult  2356770    1809013  3361229  2585595\n",
       "Young Adult   898155     679909  1314989   971465"
      ]
     },
     "execution_count": 618,
     "metadata": {},
     "output_type": "execute_result"
    }
   ],
   "source": [
    "age_region"
   ]
  },
  {
   "cell_type": "code",
   "execution_count": null,
   "id": "a8a9a61e",
   "metadata": {},
   "outputs": [],
   "source": [
    "age_region.to_clipboard()"
   ]
  },
  {
   "cell_type": "code",
   "execution_count": 620,
   "id": "94ffdabd",
   "metadata": {},
   "outputs": [],
   "source": [
    "income_dist = all_merged['income_class'].value_counts() #getting distribution table"
   ]
  },
  {
   "cell_type": "code",
   "execution_count": 622,
   "id": "eb3b07c7",
   "metadata": {},
   "outputs": [],
   "source": [
    "income_dist.to_clipboard()"
   ]
  },
  {
   "cell_type": "code",
   "execution_count": 108,
   "id": "db3ed809",
   "metadata": {},
   "outputs": [],
   "source": [
    "income_dep = all_merged.groupby('income_class')['department'].value_counts()"
   ]
  },
  {
   "cell_type": "code",
   "execution_count": 109,
   "id": "5c395441",
   "metadata": {},
   "outputs": [
    {
     "data": {
      "text/plain": [
       "income_class  department\n",
       "Lower-Income  produce       769642\n",
       "              snacks        528817\n",
       "              dairy eggs    469243\n",
       "              beverages     360861\n",
       "              frozen        200765\n",
       "                             ...  \n",
       "Upper-Income  alcohol        27396\n",
       "              pets           15552\n",
       "              missing         9834\n",
       "              other           5430\n",
       "              bulk            4440\n",
       "Name: count, Length: 63, dtype: int64"
      ]
     },
     "execution_count": 109,
     "metadata": {},
     "output_type": "execute_result"
    }
   ],
   "source": [
    "income_dep"
   ]
  },
  {
   "cell_type": "code",
   "execution_count": 609,
   "id": "9088890c",
   "metadata": {},
   "outputs": [],
   "source": [
    "income_dist = all_merged['region'].value_counts()"
   ]
  },
  {
   "cell_type": "code",
   "execution_count": 611,
   "id": "d68edcdb",
   "metadata": {},
   "outputs": [],
   "source": [
    "income_dist.to_clipboard()"
   ]
  },
  {
   "cell_type": "code",
   "execution_count": 629,
   "id": "178131e7",
   "metadata": {},
   "outputs": [],
   "source": [
    "income_price = all_merged.groupby(['income_class', 'price_label']).size().unstack() #getting data for a table"
   ]
  },
  {
   "cell_type": "markdown",
   "id": "e9adf23c",
   "metadata": {},
   "source": [
    "## 9) Producing Charts to Illustrate Results and Exporting them into the Project Folder."
   ]
  },
  {
   "cell_type": "code",
   "execution_count": 105,
   "id": "e7f16e33",
   "metadata": {},
   "outputs": [],
   "source": [
    "#creating a small random sample for lineplot\n",
    "np.random.seed(4)\n",
    "dev = np.random.rand(len(all_merged)) <= 0.7\n",
    "small = all_merged[~dev]"
   ]
  },
  {
   "cell_type": "code",
   "execution_count": 630,
   "id": "d5a64b1f",
   "metadata": {},
   "outputs": [
    {
     "data": {
      "image/png": "[encoded data removed]",
      "text/plain": [
       "<Figure size 640x480 with 1 Axes>"
      ]
     },
     "metadata": {},
     "output_type": "display_data"
    }
   ],
   "source": [
    "income_price_bar = income_price.plot.bar(stacked = True, title = 'Price Labels by Income Class')"
   ]
  },
  {
   "cell_type": "code",
   "execution_count": 631,
   "id": "ce0cbb96",
   "metadata": {},
   "outputs": [],
   "source": [
    "income_price_bar.figure.savefig(os.path.join(path_3, 'Price Labels by Income Class'),dpi = 300, bbox_inches='tight')"
   ]
  },
  {
   "cell_type": "code",
   "execution_count": 286,
   "id": "55e160c8",
   "metadata": {},
   "outputs": [],
   "source": [
    "hour_prices_line.figure.savefig(os.path.join(path_3, 'Orders by Hour and Price'),dpi = 300, bbox_inches='tight')"
   ]
  },
  {
   "cell_type": "code",
   "execution_count": 106,
   "id": "b85135d6",
   "metadata": {},
   "outputs": [
    {
     "name": "stderr",
     "output_type": "stream",
     "text": [
      "/tmp/ipykernel_96827/2243688901.py:2: UserWarning: The palette list has more values (23) than needed (21), which may not be intended.\n",
      "  region_prices_line = sns.lineplot(data= small, x='orders_day_of_week', y='order_id', estimator='count', hue='department', palette = p, errorbar=None)\n"
     ]
    },
    {
     "data": {
      "text/plain": [
       "Text(0.5, 1.0, 'Order Count by Day of the Week and Department')"
      ]
     },
     "execution_count": 106,
     "metadata": {},
     "output_type": "execute_result"
    },
    {
     "data": {
      "image/png": "[encoded data removed]",
      "text/plain": [
       "<Figure size 640x480 with 1 Axes>"
      ]
     },
     "metadata": {},
     "output_type": "display_data"
    }
   ],
   "source": [
    "p = ['#e6194b', '#3cb44b', '#ffe119', '#f032e6', '#bcf60c', '#fabebe', '#008080', '#e6beff', '#4363d8', '#f58231', '#911eb4', '#46f0f0','#9a6324', '#BFFF00', '#fffac8', '#800000', '#aaffc3', '#808000', '#ffd8b1', '#000075', '#808080', '#ffffff', '#000000']\n",
    "region_prices_line = sns.lineplot(data= small, x='orders_day_of_week', y='order_id', estimator='count', hue='department', palette = p, errorbar=None)\n",
    "plt.legend(title='Department', loc='center left', bbox_to_anchor=(1.0, 0.5))\n",
    "plt.xlabel('Day of the Week')\n",
    "plt.ylabel('Order Count')\n",
    "plt.title('Order Count by Day of the Week and Department')"
   ]
  },
  {
   "cell_type": "code",
   "execution_count": 607,
   "id": "7f604580",
   "metadata": {},
   "outputs": [],
   "source": [
    "region_prices_line.figure.savefig(os.path.join(path_3, 'Departments and Days of the Week'),dpi = 300, bbox_inches='tight')"
   ]
  },
  {
   "cell_type": "code",
   "execution_count": 93,
   "id": "46c6cb39",
   "metadata": {},
   "outputs": [
    {
     "data": {
      "image/png": "[encoded data removed]",
      "text/plain": [
       "<Figure size 640x480 with 1 Axes>"
      ]
     },
     "metadata": {},
     "output_type": "display_data"
    }
   ],
   "source": [
    "age_profile_stacked = age_profile.plot.bar(stacked = True, title = 'Profile by Age')"
   ]
  },
  {
   "cell_type": "code",
   "execution_count": 94,
   "id": "f1040b6c",
   "metadata": {},
   "outputs": [],
   "source": [
    "age_profile_stacked.figure.savefig(os.path.join(path_3, 'Age and Profile Distribution'),dpi = 300, bbox_inches='tight')"
   ]
  },
  {
   "cell_type": "code",
   "execution_count": 77,
   "id": "e40e8845",
   "metadata": {},
   "outputs": [],
   "source": [
    "region_income = region_income.sort_values('Upper-Income', ascending = False)"
   ]
  },
  {
   "cell_type": "code",
   "execution_count": 78,
   "id": "b3d2ddba",
   "metadata": {},
   "outputs": [
    {
     "data": {
      "text/plain": [
       "Text(0.5, 0, 'Region')"
      ]
     },
     "execution_count": 78,
     "metadata": {},
     "output_type": "execute_result"
    },
    {
     "data": {
      "image/png": "[encoded data removed]",
      "text/plain": [
       "<Figure size 640x480 with 1 Axes>"
      ]
     },
     "metadata": {},
     "output_type": "display_data"
    }
   ],
   "source": [
    "region_income_stacked = region_income.plot.bar(stacked = True, title = 'Income Class by Region')\n",
    "plt.xlabel('Region', fontsize = 10)"
   ]
  },
  {
   "cell_type": "code",
   "execution_count": 79,
   "id": "27919738",
   "metadata": {},
   "outputs": [],
   "source": [
    "region_income_stacked.figure.savefig(os.path.join(path_3, 'region_income_stacked.png'),dpi=300, bbox_inches='tight')"
   ]
  },
  {
   "cell_type": "code",
   "execution_count": 80,
   "id": "56302689",
   "metadata": {},
   "outputs": [],
   "source": [
    "dep_profile = dep_profile.sort_values('Married Dad', ascending = False)"
   ]
  },
  {
   "cell_type": "code",
   "execution_count": 87,
   "id": "d831d4ef",
   "metadata": {},
   "outputs": [],
   "source": [
    "income_region_age = income_region_age.sort_values('Middle-Income', ascending = False)"
   ]
  },
  {
   "cell_type": "markdown",
   "id": "35a5bc0c",
   "metadata": {},
   "source": [
    "## 10) Exporting the Final Data Set"
   ]
  },
  {
   "cell_type": "code",
   "execution_count": 90,
   "id": "dc277cf5",
   "metadata": {
    "scrolled": true
   },
   "outputs": [
    {
     "name": "stdout",
     "output_type": "stream",
     "text": [
      "<class 'pandas.core.frame.DataFrame'>\n",
      "RangeIndex: 30964564 entries, 0 to 30964563\n",
      "Data columns (total 36 columns):\n",
      " #   Column                 Dtype   \n",
      "---  ------                 -----   \n",
      " 0   department_id          int64   \n",
      " 1   department             object  \n",
      " 2   user_id                object  \n",
      " 3   gender                 object  \n",
      " 4   state                  object  \n",
      " 5   age                    int64   \n",
      " 6   date_joined            object  \n",
      " 7   number_of_dependants   int64   \n",
      " 8   marital_status         object  \n",
      " 9   income                 int64   \n",
      " 10  product_id             int64   \n",
      " 11  product_name           object  \n",
      " 12  aisle_id               int64   \n",
      " 13  prices                 float64 \n",
      " 14  order_id               int64   \n",
      " 15  order_number           int64   \n",
      " 16  orders_day_of_week     int64   \n",
      " 17  order_hour_of_day      int64   \n",
      " 18  days_since_last_order  float64 \n",
      " 19  add_to_cart_order      int64   \n",
      " 20  reordered              int64   \n",
      " 21  _merge                 category\n",
      " 22  exists                 category\n",
      " 23  price_label            object  \n",
      " 24  busiest_days           object  \n",
      " 25  busiest_period_of_day  object  \n",
      " 26  max_order              int64   \n",
      " 27  loyalty_flag           object  \n",
      " 28  average_price          float64 \n",
      " 29  spending_flag          object  \n",
      " 30  median_frequency       float64 \n",
      " 31  order_frequency_flag   object  \n",
      " 32  region                 object  \n",
      " 33  income_class           object  \n",
      " 34  age_group              object  \n",
      " 35  profile                object  \n",
      "dtypes: category(2), float64(4), int64(13), object(17)\n",
      "memory usage: 7.9+ GB\n"
     ]
    }
   ],
   "source": [
    "all_merged.info()"
   ]
  },
  {
   "cell_type": "code",
   "execution_count": 91,
   "id": "e62f5a50",
   "metadata": {},
   "outputs": [],
   "source": [
    "#all_merged.to_pickle(os.path.join(path, 'orders_products_all.pkl'))"
   ]
  }
 ],
 "metadata": {
  "kernelspec": {
   "display_name": "Python 3 (ipykernel)",
   "language": "python",
   "name": "python3"
  },
  "language_info": {
   "codemirror_mode": {
    "name": "ipython",
    "version": 3
   },
   "file_extension": ".py",
   "mimetype": "text/x-python",
   "name": "python",
   "nbconvert_exporter": "python",
   "pygments_lexer": "ipython3",
   "version": "3.11.4"
  }
 },
 "nbformat": 4,
 "nbformat_minor": 5
}
