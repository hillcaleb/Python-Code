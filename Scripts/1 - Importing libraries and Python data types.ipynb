{
 "cells": [
  {
   "cell_type": "markdown",
   "id": "999f1015",
   "metadata": {},
   "source": [
    "# Importing Libraries and Python Data Types\n",
    "\n",
    "\n",
    "# Contents\n",
    "\n",
    "## 1. Importing Libraries\n",
    "## 2. Working with Python Data Types"
   ]
  },
  {
   "cell_type": "markdown",
   "id": "6229b9d3",
   "metadata": {},
   "source": [
    "# 01. Importing Libraries"
   ]
  },
  {
   "cell_type": "code",
   "execution_count": 1,
   "id": "41361924",
   "metadata": {},
   "outputs": [],
   "source": [
    "import numpy as np #imports numpy libraby as np\n",
    "import pandas as pd #imports pandas library as pd"
   ]
  },
  {
   "cell_type": "markdown",
   "id": "a2fd5be9",
   "metadata": {},
   "source": [
    "# 02. Working with Python Data Types"
   ]
  },
  {
   "cell_type": "markdown",
   "id": "7cf50e9a",
   "metadata": {},
   "source": [
    "## a - Code 3 different ways of reaching a result of 100 by adding or subtracting numeric variables."
   ]
  },
  {
   "cell_type": "code",
   "execution_count": 2,
   "id": "10d5fe8a",
   "metadata": {},
   "outputs": [
    {
     "name": "stdout",
     "output_type": "stream",
     "text": [
      "100\n"
     ]
    }
   ],
   "source": [
    "#Uses a while loop to turn a variable of 0 (result) into 100\n",
    "result = 0 #defines variable as 0 \n",
    "while result < 100: #defines while loop \n",
    "    result += 50 #adds 50 to result\n",
    "print(result) #prints result"
   ]
  },
  {
   "cell_type": "code",
   "execution_count": 3,
   "id": "e3406b70",
   "metadata": {},
   "outputs": [
    {
     "name": "stdout",
     "output_type": "stream",
     "text": [
      "100\n"
     ]
    }
   ],
   "source": [
    "#uses a for loop to add 1 to x until it reaches 100 \n",
    "for x in range(100): #defines for loop so that it iterates 100 times\n",
    "    x +=1  #adds one to x\n",
    "print(x) #prints x"
   ]
  },
  {
   "cell_type": "code",
   "execution_count": 4,
   "id": "434c0211",
   "metadata": {},
   "outputs": [
    {
     "name": "stdout",
     "output_type": "stream",
     "text": [
      "100\n",
      "100\n",
      "100\n"
     ]
    }
   ],
   "source": [
    "#turns any whole number you give into 100 using recursion\n",
    "def recursive_one(n): #defines function\n",
    "    if n != 100: #tests if n is equal to 100\n",
    "        if n > 100: #tests if n is less than 100\n",
    "            recursive_one(n-1) #subracts 1 from n\n",
    "        else:\n",
    "            recursive_one(n+1) #adds 1 to n        \n",
    "    else:\n",
    "        print(n) #prints n\n",
    "        \n",
    "recursive_one(2000) #tests usage of a postive number over 100\n",
    "recursive_one(1) #tests usage of a positive number under 100\n",
    "recursive_one(-50) #test usage of a negative number\n",
    "            \n",
    "        \n",
    " \n"
   ]
  },
  {
   "cell_type": "markdown",
   "id": "ce483ca9",
   "metadata": {},
   "source": [
    "## b - Code 2 floating-point variables and divide them by each other."
   ]
  },
  {
   "cell_type": "code",
   "execution_count": 5,
   "id": "224940e3",
   "metadata": {},
   "outputs": [
    {
     "name": "stdout",
     "output_type": "stream",
     "text": [
      "0.5294117647058824\n"
     ]
    }
   ],
   "source": [
    "x = 2.25   #defines float variable 1\n",
    "y = 4.25   #defines float variable 2\n",
    "\n",
    "print(x/y) #prints the division of x and y"
   ]
  },
  {
   "cell_type": "code",
   "execution_count": 6,
   "id": "feabd478",
   "metadata": {},
   "outputs": [
    {
     "name": "stdout",
     "output_type": "stream",
     "text": [
      "world\n"
     ]
    }
   ],
   "source": [
    "x = 'wor'  #defines x variable (string)\n",
    "y = 'ld'   #defines y variable (string)\n",
    "print(x+y) #concatenates the two string variables"
   ]
  },
  {
   "cell_type": "code",
   "execution_count": 17,
   "id": "4743e7a4",
   "metadata": {},
   "outputs": [
    {
     "name": "stdout",
     "output_type": "stream",
     "text": [
      "\"Hi, how are you?\"\n",
      "\"Good thanks, how are you?\"\n"
     ]
    }
   ],
   "source": [
    "#string valuables are defined below\n",
    "x = '\"Hi, how ar' \n",
    "y = 'e you?\"'\n",
    "a = '\"Good thanks, '\n",
    "b = 'how are you?\"'\n",
    "\n",
    "print(f\"{x+y}\\n{a+b}\") #concatenates the variables and adds a newline between the two statements"
   ]
  },
  

   "source": [
    "x = 0\n",
    "while x < 100:\n",
    "    print(f\"{100 - x} iterations left\")\n",
    "    x += 1\n",
    "print('0 iterations left')\n"
   ]
  }
 ],
 "metadata": {
  "kernelspec": {
   "display_name": "Python 3 (ipykernel)",
   "language": "python",
   "name": "python3"
  },
  "language_info": {
   "codemirror_mode": {
    "name": "ipython",
    "version": 3
   },
   "file_extension": ".py",
   "mimetype": "text/x-python",
   "name": "python",
   "nbconvert_exporter": "python",
   "pygments_lexer": "ipython3",
   "version": "3.11.4"
  }
 },
 "nbformat": 4,
 "nbformat_minor": 5
}
